{
 "cells": [
  {
   "cell_type": "markdown",
   "metadata": {},
   "source": [
    "## Flask"
   ]
  },
  {
   "cell_type": "code",
   "execution_count": 5,
   "metadata": {},
   "outputs": [
    {
     "name": "stdout",
     "output_type": "stream",
     "text": [
      "Overwriting server.py\n"
     ]
    }
   ],
   "source": [
    "%%writefile server.py\n",
    "\n",
    "import cv2\n",
    "import numpy as np\n",
    "import datetime\n",
    "from flask import Flask, request, render_template, redirect\n",
    "\n",
    "app = Flask(__name__)\n",
    "\n",
    "def chromakey(img, background):\n",
    "    hsv = cv2.cvtColor(img, cv2.COLOR_BGR2HSV)\n",
    "    patch = hsv[0:20, 0:20, :] \n",
    "\n",
    "    minH = np.min(patch[:,:,0])*0.9\n",
    "    maxH = np.max(patch[:,:,0])*1.1\n",
    "\n",
    "    minS = np.min(patch[:,:,1])*0.9\n",
    "    maxS = np.max(patch[:,:,1])*1.1\n",
    "\n",
    "    h = hsv[:,:,0]\n",
    "    s = hsv[:,:,1]\n",
    "\n",
    "    dest = img.copy()\n",
    "\n",
    "    for r in range(img.shape[0]):\n",
    "        for c in range(img.shape[1]):\n",
    "            if h[r,c] >= minH and h[r,c] <= maxH and s[r,c] >= minS and s[r,c] <= maxS:\n",
    "                dest[r,c,:] = background[r,c,:]\n",
    "            else:\n",
    "                dest[r,c,:] = img[r,c,:]\n",
    "                \n",
    "    return dest\n",
    "\n",
    "@app.route('/')\n",
    "def index():\n",
    "   \n",
    "    return render_template(\"imageprocessing.html\", ctx={\"title\":\"영상처리\"})\n",
    "\n",
    "@app.route('/upload', methods=[\"post\"])\n",
    "def upload():\n",
    "    f = request.files['file1']\n",
    "    filename = \"./static/\" + f.filename\n",
    "    f.save(filename)\n",
    "    \n",
    "    \n",
    "    return redirect(\"/\")\n",
    "\n",
    "@app.route('/imageprocess')\n",
    "def imageprocess():\n",
    "    \n",
    "    method = request.args.get(\"method\")\n",
    "    if method == \"emboss\":\n",
    "        # opencv embossing\n",
    "        # save /static/result.jpeg\n",
    "        \n",
    "    return \"hello!~@~!@~!@~!@~!@~!@~\"\n",
    "\n",
    "if __name__ == '__main__':\n",
    "    app.run(host='0.0.0.0', debug=True, port=8000)"
   ]
  },
  {
   "cell_type": "code",
   "execution_count": null,
   "metadata": {},
   "outputs": [],
   "source": []
  }
 ],
 "metadata": {
  "kernelspec": {
   "display_name": "Python 3",
   "language": "python",
   "name": "python3"
  },
  "language_info": {
   "codemirror_mode": {
    "name": "ipython",
    "version": 3
   },
   "file_extension": ".py",
   "mimetype": "text/x-python",
   "name": "python",
   "nbconvert_exporter": "python",
   "pygments_lexer": "ipython3",
   "version": "3.7.6"
  },
  "toc": {
   "base_numbering": 1,
   "nav_menu": {},
   "number_sections": false,
   "sideBar": true,
   "skip_h1_title": false,
   "title_cell": "Table of Contents",
   "title_sidebar": "Contents",
   "toc_cell": false,
   "toc_position": {},
   "toc_section_display": true,
   "toc_window_display": false
  }
 },
 "nbformat": 4,
 "nbformat_minor": 4
}
