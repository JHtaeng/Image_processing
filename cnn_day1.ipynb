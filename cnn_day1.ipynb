{
 "cells": [
  {
   "cell_type": "code",
   "execution_count": 21,
   "metadata": {},
   "outputs": [],
   "source": [
    "from sklearn import datasets\n",
    "import numpy.linalg as lin\n",
    "from sklearn.model_selection import train_test_split\n",
    "import numpy as np\n",
    "import matplotlib.pyplot as plt\n",
    "from keras.datasets import mnist, fashion_mnist\n",
    "from keras import models\n",
    "from keras.utils import to_categorical\n",
    "from keras.models import Sequential\n",
    "from keras import optimizers\n",
    "from keras.layers import Dense, Activation, Flatten, Conv2D, MaxPooling2D\n",
    "from keras.models import load_model\n",
    "import cv2\n",
    "import io\n",
    "\n",
    "DIR = './drawing/'"
   ]
  },
  {
   "cell_type": "markdown",
   "metadata": {},
   "source": [
    "# MNIST 기초\n",
    "\n",
    "- inverve를 통한 mnist 학습\n",
    "- 신경망을 통한 mnist 학습\n",
    "- CNN 통한 mnist 학습\n",
    "- fashion mnist, face db 테스트\n",
    "- web 연동 (한글, 스케치 인식)"
   ]
  },
  {
   "cell_type": "markdown",
   "metadata": {},
   "source": [
    "## 데이터 준비"
   ]
  },
  {
   "cell_type": "code",
   "execution_count": 2,
   "metadata": {},
   "outputs": [],
   "source": [
    "(X_train, y_train) , (X_test, y_test) = mnist.load_data()"
   ]
  },
  {
   "cell_type": "code",
   "execution_count": 5,
   "metadata": {},
   "outputs": [
    {
     "name": "stdout",
     "output_type": "stream",
     "text": [
      "(60000, 28, 28)\n"
     ]
    },
    {
     "data": {
      "text/plain": [
       "<matplotlib.image.AxesImage at 0x1249d806948>"
      ]
     },
     "execution_count": 5,
     "metadata": {},
     "output_type": "execute_result"
    },
    {
     "data": {
      "image/png": "[encoded data removed]",
      "text/plain": [
       "<Figure size 432x288 with 1 Axes>"
      ]
     },
     "metadata": {
      "needs_background": "light"
     },
     "output_type": "display_data"
    }
   ],
   "source": [
    "print(X_train.shape)\n",
    "plt.imshow(X_train[2], cmap = 'gray')"
   ]
  },
  {
   "cell_type": "code",
   "execution_count": 6,
   "metadata": {},
   "outputs": [
    {
     "name": "stdout",
     "output_type": "stream",
     "text": [
      "(10000, 28, 28)\n"
     ]
    },
    {
     "data": {
      "text/plain": [
       "<matplotlib.image.AxesImage at 0x124997f6388>"
      ]
     },
     "execution_count": 6,
     "metadata": {},
     "output_type": "execute_result"
    },
    {
     "data": {
      "image/png": "[encoded data removed]",
      "text/plain": [
       "<Figure size 432x288 with 1 Axes>"
      ]
     },
     "metadata": {
      "needs_background": "light"
     },
     "output_type": "display_data"
    }
   ],
   "source": [
    "print(X_test.shape)\n",
    "plt.imshow(X_test[2], cmap = 'gray')"
   ]
  },
  {
   "cell_type": "code",
   "execution_count": 9,
   "metadata": {},
   "outputs": [
    {
     "name": "stdout",
     "output_type": "stream",
     "text": [
      "[[  0   0   0   0   0   0   0   0   0   0   0   0   0   0   0   0   0   0\n",
      "    0   0   0   0   0   0   0   0   0   0]\n",
      " [  0   0   0   0   0   0   0   0   0   0   0   0   0   0   0   0   0   0\n",
      "    0   0   0   0   0   0   0   0   0   0]\n",
      " [  0   0   0   0   0   0   0   0   0   0   0   0   0   0   0   0   0   0\n",
      "    0   0   0   0   0   0   0   0   0   0]\n",
      " [  0   0   0   0   0   0   0   0   0   0   0   0   0   0   0   0   0   0\n",
      "    0   0   0   0   0   0   0   0   0   0]\n",
      " [  0   0   0   0   0   0   0   0   0   0   0   0   0   0   0   0  38 254\n",
      "  109   0   0   0   0   0   0   0   0   0]\n",
      " [  0   0   0   0   0   0   0   0   0   0   0   0   0   0   0   0  87 252\n",
      "   82   0   0   0   0   0   0   0   0   0]\n",
      " [  0   0   0   0   0   0   0   0   0   0   0   0   0   0   0   0 135 241\n",
      "    0   0   0   0   0   0   0   0   0   0]\n",
      " [  0   0   0   0   0   0   0   0   0   0   0   0   0   0   0  45 244 150\n",
      "    0   0   0   0   0   0   0   0   0   0]\n",
      " [  0   0   0   0   0   0   0   0   0   0   0   0   0   0   0  84 254  63\n",
      "    0   0   0   0   0   0   0   0   0   0]\n",
      " [  0   0   0   0   0   0   0   0   0   0   0   0   0   0   0 202 223  11\n",
      "    0   0   0   0   0   0   0   0   0   0]\n",
      " [  0   0   0   0   0   0   0   0   0   0   0   0   0   0  32 254 216   0\n",
      "    0   0   0   0   0   0   0   0   0   0]\n",
      " [  0   0   0   0   0   0   0   0   0   0   0   0   0   0  95 254 195   0\n",
      "    0   0   0   0   0   0   0   0   0   0]\n",
      " [  0   0   0   0   0   0   0   0   0   0   0   0   0   0 140 254  77   0\n",
      "    0   0   0   0   0   0   0   0   0   0]\n",
      " [  0   0   0   0   0   0   0   0   0   0   0   0   0  57 237 205   8   0\n",
      "    0   0   0   0   0   0   0   0   0   0]\n",
      " [  0   0   0   0   0   0   0   0   0   0   0   0   0 124 255 165   0   0\n",
      "    0   0   0   0   0   0   0   0   0   0]\n",
      " [  0   0   0   0   0   0   0   0   0   0   0   0   0 171 254  81   0   0\n",
      "    0   0   0   0   0   0   0   0   0   0]\n",
      " [  0   0   0   0   0   0   0   0   0   0   0   0  24 232 215   0   0   0\n",
      "    0   0   0   0   0   0   0   0   0   0]\n",
      " [  0   0   0   0   0   0   0   0   0   0   0   0 120 254 159   0   0   0\n",
      "    0   0   0   0   0   0   0   0   0   0]\n",
      " [  0   0   0   0   0   0   0   0   0   0   0   0 151 254 142   0   0   0\n",
      "    0   0   0   0   0   0   0   0   0   0]\n",
      " [  0   0   0   0   0   0   0   0   0   0   0   0 228 254  66   0   0   0\n",
      "    0   0   0   0   0   0   0   0   0   0]\n",
      " [  0   0   0   0   0   0   0   0   0   0   0  61 251 254  66   0   0   0\n",
      "    0   0   0   0   0   0   0   0   0   0]\n",
      " [  0   0   0   0   0   0   0   0   0   0   0 141 254 205   3   0   0   0\n",
      "    0   0   0   0   0   0   0   0   0   0]\n",
      " [  0   0   0   0   0   0   0   0   0   0  10 215 254 121   0   0   0   0\n",
      "    0   0   0   0   0   0   0   0   0   0]\n",
      " [  0   0   0   0   0   0   0   0   0   0   5 198 176  10   0   0   0   0\n",
      "    0   0   0   0   0   0   0   0   0   0]\n",
      " [  0   0   0   0   0   0   0   0   0   0   0   0   0   0   0   0   0   0\n",
      "    0   0   0   0   0   0   0   0   0   0]\n",
      " [  0   0   0   0   0   0   0   0   0   0   0   0   0   0   0   0   0   0\n",
      "    0   0   0   0   0   0   0   0   0   0]\n",
      " [  0   0   0   0   0   0   0   0   0   0   0   0   0   0   0   0   0   0\n",
      "    0   0   0   0   0   0   0   0   0   0]\n",
      " [  0   0   0   0   0   0   0   0   0   0   0   0   0   0   0   0   0   0\n",
      "    0   0   0   0   0   0   0   0   0   0]]\n",
      "(60000,)\n",
      "[5 0 4 ... 5 6 8]\n"
     ]
    }
   ],
   "source": [
    "print(X_test[2])\n",
    "print(y_train.shape)\n",
    "print(y_train)"
   ]
  },
  {
   "cell_type": "code",
   "execution_count": 24,
   "metadata": {},
   "outputs": [
    {
     "name": "stdout",
     "output_type": "stream",
     "text": [
      "(60000, 784)\n",
      "(10000, 784)\n"
     ]
    }
   ],
   "source": [
    "X_train = X_train.reshape((X_train.shape[0],784))\n",
    "X_test = X_test.reshape((X_test.shape[0],784))\n",
    "\n",
    "print(X_train.shape)\n",
    "print(X_test.shape)"
   ]
  },
  {
   "cell_type": "code",
   "execution_count": 25,
   "metadata": {},
   "outputs": [],
   "source": [
    "y_train_e = to_categorical(y_train)\n",
    "y_test_e = to_categorical(y_test)"
   ]
  },
  {
   "cell_type": "markdown",
   "metadata": {},
   "source": [
    "## 1. 역행렬을 이용한 MNIST 학습\n",
    "\n",
    "   y = Wx + b\n",
    "\n",
    "1. y = W * [x 1] -> [x 1] * W\n",
    "    - A -> 60000x785(784+1) 행렬\n",
    "    - 1은 y = Wx + b에서 상수 b\n",
    "    - Y -> 60000x10 행렬\n",
    "2. W = inv(A) * Y  \n",
    "   - W -> 785x10 행렬\n",
    "3. predict = [x 1] * W\n",
    "    - x = 1x784\n",
    "    - W = 785x10"
   ]
  },
  {
   "cell_type": "code",
   "execution_count": 26,
   "metadata": {},
   "outputs": [
    {
     "name": "stdout",
     "output_type": "stream",
     "text": [
      "(60000, 785)\n"
     ]
    }
   ],
   "source": [
    "A = np.hstack((X_train, np.ones((60000,1))))\n",
    "print(A.shape)"
   ]
  },
  {
   "cell_type": "code",
   "execution_count": 27,
   "metadata": {},
   "outputs": [
    {
     "name": "stdout",
     "output_type": "stream",
     "text": [
      "(785, 10)\n",
      "[[ 7.44778176e-17  3.08116485e-17  6.24517735e-17 ... -1.88247216e-17\n",
      "  -9.68761668e-17  2.74183832e-17]\n",
      " [-2.02652642e-15 -8.88043361e-15 -1.23469953e-14 ...  9.01778765e-15\n",
      "   1.44453949e-14  4.97795720e-15]\n",
      " [ 3.89572462e-15  8.31633536e-15  8.79628286e-15 ... -6.90318037e-15\n",
      "  -1.11422250e-14 -2.33884532e-15]\n",
      " ...\n",
      " [ 0.00000000e+00  0.00000000e+00  0.00000000e+00 ...  0.00000000e+00\n",
      "   0.00000000e+00  0.00000000e+00]\n",
      " [ 0.00000000e+00  0.00000000e+00  0.00000000e+00 ...  0.00000000e+00\n",
      "   0.00000000e+00  0.00000000e+00]\n",
      " [ 1.57799659e-01  2.41326501e-01  4.98284745e-02 ...  1.41540555e-01\n",
      "  -1.23002061e-01  4.55121243e-02]]\n",
      "(785,)\n",
      "Wall time: 9.03 s\n"
     ]
    }
   ],
   "source": [
    "%%time\n",
    "\n",
    "W=np.matmul(lin.pinv(A), y_train_e)\n",
    "print(W.shape)\n",
    "print(W)\n",
    "print(W[:,0].shape)"
   ]
  },
  {
   "cell_type": "code",
   "execution_count": 32,
   "metadata": {},
   "outputs": [
    {
     "name": "stdout",
     "output_type": "stream",
     "text": [
      "(10000, 10)\n",
      "(10000,)\n",
      "[7 2 1 ... 4 5 6]\n"
     ]
    },
    {
     "data": {
      "text/plain": [
       "<matplotlib.image.AxesImage at 0x1249fc35ec8>"
      ]
     },
     "execution_count": 32,
     "metadata": {},
     "output_type": "execute_result"
    },
    {
     "data": {
      "image/png": "[encoded data removed]",
      "text/plain": [
       "<Figure size 432x288 with 1 Axes>"
      ]
     },
     "metadata": {
      "needs_background": "light"
     },
     "output_type": "display_data"
    }
   ],
   "source": [
    "# test 데이터로 예측\n",
    "T = np.hstack((X_test, np.ones((10000,1))))\n",
    "p_ =np.matmul(T, W)\n",
    "print(p_.shape)\n",
    "\n",
    "p = np.argmax(p_,axis=1)\n",
    "print(p.shape)\n",
    "print(p)\n",
    "\n",
    "plt.imshow(X_test[9999,:].reshape(28,28), cmap='gray')"
   ]
  },
  {
   "cell_type": "code",
   "execution_count": 29,
   "metadata": {},
   "outputs": [
    {
     "data": {
      "text/plain": [
       "0.8603"
      ]
     },
     "execution_count": 29,
     "metadata": {},
     "output_type": "execute_result"
    }
   ],
   "source": [
    "# 인식률\n",
    "np.mean(p==y_test)"
   ]
  },
  {
   "cell_type": "code",
   "execution_count": 21,
   "metadata": {},
   "outputs": [
    {
     "name": "stdout",
     "output_type": "stream",
     "text": [
      "5\n",
      "[2 2 2]\n",
      "[1 1 1]\n"
     ]
    }
   ],
   "source": [
    "a = np.array([[1,2,3],\n",
    "              [7,8,9],\n",
    "              [4,5,6]])\n",
    "print(np.argmax(a)) # 가장 큰값을 갖는 곳의 인덱스 \n",
    "print(np.argmax(a, axis=1)) # 각 행에서 가장 큰 값을 갖는 곳 인덱스 \n",
    "print(np.argmax(a, axis=0)) # 각 열에서 가장 큰 값을 갖는 곳 인덱스 "
   ]
  },
  {
   "cell_type": "markdown",
   "metadata": {},
   "source": [
    "## 2. 신경망을 통한 MNIST 학습"
   ]
  },
  {
   "cell_type": "code",
   "execution_count": 33,
   "metadata": {},
   "outputs": [],
   "source": [
    "model = Sequential()\n",
    "model.add(Dense(10, activation = 'softmax'))\n",
    "model.compile(loss = 'categorical_crossentropy', optimizer = 'adam',metrics = ['accuracy'])"
   ]
  },
  {
   "cell_type": "code",
   "execution_count": 34,
   "metadata": {},
   "outputs": [
    {
     "name": "stdout",
     "output_type": "stream",
     "text": [
      "Epoch 1/10\n",
      "1875/1875 [==============================] - 4s 2ms/step - loss: 9.7959 - accuracy: 0.8396\n",
      "Epoch 2/10\n",
      "1875/1875 [==============================] - 4s 2ms/step - loss: 5.9115 - accuracy: 0.8809\n",
      "Epoch 3/10\n",
      "1875/1875 [==============================] - 4s 2ms/step - loss: 5.6551 - accuracy: 0.8823\n",
      "Epoch 4/10\n",
      "1875/1875 [==============================] - 4s 2ms/step - loss: 5.6154 - accuracy: 0.8840\n",
      "Epoch 5/10\n",
      "1875/1875 [==============================] - 4s 2ms/step - loss: 5.2871 - accuracy: 0.8883\n",
      "Epoch 6/10\n",
      "1875/1875 [==============================] - 4s 2ms/step - loss: 5.3310 - accuracy: 0.8876\n",
      "Epoch 7/10\n",
      "1875/1875 [==============================] - 4s 2ms/step - loss: 5.3427 - accuracy: 0.8861\n",
      "Epoch 8/10\n",
      "1875/1875 [==============================] - 4s 2ms/step - loss: 5.2069 - accuracy: 0.8894\n",
      "Epoch 9/10\n",
      "1875/1875 [==============================] - 4s 2ms/step - loss: 5.3156 - accuracy: 0.8885\n",
      "Epoch 10/10\n",
      "1875/1875 [==============================] - 4s 2ms/step - loss: 5.2377 - accuracy: 0.8900\n"
     ]
    }
   ],
   "source": [
    "hist = model.fit(x = X_train, y = y_train_e,\n",
    "                epochs = 10,\n",
    "                verbose = 1,\n",
    "                batch_size=32)"
   ]
  },
  {
   "cell_type": "code",
   "execution_count": 36,
   "metadata": {},
   "outputs": [
    {
     "name": "stdout",
     "output_type": "stream",
     "text": [
      "Test loss: 6.534481048583984\n",
      "Test accuracy: 0.8790000081062317\n"
     ]
    }
   ],
   "source": [
    "score = model.evaluate(X_test, y_test_e, verbose = 0)\n",
    "print('Test loss:', score[0])\n",
    "print('Test accuracy:', score[1])"
   ]
  },
  {
   "cell_type": "code",
   "execution_count": 38,
   "metadata": {},
   "outputs": [
    {
     "name": "stdout",
     "output_type": "stream",
     "text": [
      "(10000, 10)\n",
      "(10000,)\n",
      "[7 2 1 ... 9 5 6]\n",
      "0.879\n"
     ]
    }
   ],
   "source": [
    "p = model.predict(X_test)\n",
    "print(p.shape)\n",
    "\n",
    "p = np.argmax(p, axis=1)\n",
    "print(p.shape)\n",
    "print(p)\n",
    "print(np.mean(p==y_test))"
   ]
  },
  {
   "cell_type": "markdown",
   "metadata": {},
   "source": [
    "**input size * 뉴런 수 + 뉴런수**"
   ]
  },
  {
   "cell_type": "code",
   "execution_count": 39,
   "metadata": {},
   "outputs": [
    {
     "name": "stdout",
     "output_type": "stream",
     "text": [
      "Model: \"sequential\"\n",
      "_________________________________________________________________\n",
      "Layer (type)                 Output Shape              Param #   \n",
      "=================================================================\n",
      "dense (Dense)                multiple                  7850      \n",
      "=================================================================\n",
      "Total params: 7,850\n",
      "Trainable params: 7,850\n",
      "Non-trainable params: 0\n",
      "_________________________________________________________________\n"
     ]
    }
   ],
   "source": [
    "model.summary()\n",
    "\n",
    "# 784 차원 + 1 \n",
    "# 분류기 = 785*10 = 7850"
   ]
  },
  {
   "cell_type": "code",
   "execution_count": 43,
   "metadata": {},
   "outputs": [
    {
     "name": "stdout",
     "output_type": "stream",
     "text": [
      "Model: \"sequential_3\"\n",
      "_________________________________________________________________\n",
      "Layer (type)                 Output Shape              Param #   \n",
      "=================================================================\n",
      "dense_5 (Dense)              (None, 5)                 3925      \n",
      "_________________________________________________________________\n",
      "dense_6 (Dense)              (None, 10)                60        \n",
      "=================================================================\n",
      "Total params: 3,985\n",
      "Trainable params: 3,985\n",
      "Non-trainable params: 0\n",
      "_________________________________________________________________\n"
     ]
    }
   ],
   "source": [
    "model = Sequential()\n",
    "model.add(Dense(5, input_dim=784, activation='relu')) # layer1 = 784*5+5\n",
    "model.add(Dense(10, activation = 'softmax')) # layer2 = 5*10+10\n",
    "model.compile(loss = 'categorical_crossentropy', optimizer = 'adam',metrics = ['accuracy']) \n",
    "model.summary()"
   ]
  },
  {
   "cell_type": "code",
   "execution_count": 45,
   "metadata": {},
   "outputs": [
    {
     "name": "stdout",
     "output_type": "stream",
     "text": [
      "Epoch 1/100\n",
      "600/600 [==============================] - 2s 3ms/step - loss: 1.7812 - accuracy: 0.3235\n",
      "Epoch 2/100\n",
      "600/600 [==============================] - 2s 3ms/step - loss: 1.6949 - accuracy: 0.3505\n",
      "Epoch 3/100\n",
      "600/600 [==============================] - 2s 3ms/step - loss: 1.6391 - accuracy: 0.3645\n",
      "Epoch 4/100\n",
      "600/600 [==============================] - 2s 3ms/step - loss: 1.5910 - accuracy: 0.3758\n",
      "Epoch 5/100\n",
      "600/600 [==============================] - 2s 3ms/step - loss: 1.5698 - accuracy: 0.3776\n",
      "Epoch 6/100\n",
      "600/600 [==============================] - 2s 3ms/step - loss: 1.5432 - accuracy: 0.3892\n",
      "Epoch 7/100\n",
      "600/600 [==============================] - 2s 3ms/step - loss: 1.5280 - accuracy: 0.3973\n",
      "Epoch 8/100\n",
      "600/600 [==============================] - 2s 3ms/step - loss: 1.5039 - accuracy: 0.4018\n",
      "Epoch 9/100\n",
      "600/600 [==============================] - 2s 3ms/step - loss: 1.4708 - accuracy: 0.4196\n",
      "Epoch 10/100\n",
      "600/600 [==============================] - 2s 3ms/step - loss: 1.3805 - accuracy: 0.4762\n",
      "Epoch 11/100\n",
      "600/600 [==============================] - 2s 3ms/step - loss: 1.2439 - accuracy: 0.5439\n",
      "Epoch 12/100\n",
      "600/600 [==============================] - 2s 3ms/step - loss: 1.1897 - accuracy: 0.5669\n",
      "Epoch 13/100\n",
      "600/600 [==============================] - 2s 3ms/step - loss: 1.1597 - accuracy: 0.5788\n",
      "Epoch 14/100\n",
      "600/600 [==============================] - 2s 3ms/step - loss: 1.1432 - accuracy: 0.5895\n",
      "Epoch 15/100\n",
      "600/600 [==============================] - 2s 3ms/step - loss: 1.1282 - accuracy: 0.6001\n",
      "Epoch 16/100\n",
      "600/600 [==============================] - 2s 3ms/step - loss: 1.1136 - accuracy: 0.6093\n",
      "Epoch 17/100\n",
      "600/600 [==============================] - 2s 3ms/step - loss: 1.0882 - accuracy: 0.6274\n",
      "Epoch 18/100\n",
      "600/600 [==============================] - 2s 3ms/step - loss: 1.0764 - accuracy: 0.6352\n",
      "Epoch 19/100\n",
      "600/600 [==============================] - 2s 3ms/step - loss: 1.0684 - accuracy: 0.6400\n",
      "Epoch 20/100\n",
      "600/600 [==============================] - 2s 3ms/step - loss: 1.0681 - accuracy: 0.6392\n",
      "Epoch 21/100\n",
      "600/600 [==============================] - 2s 3ms/step - loss: 1.0633 - accuracy: 0.6413\n",
      "Epoch 22/100\n",
      "600/600 [==============================] - 2s 3ms/step - loss: 1.0611 - accuracy: 0.6417\n",
      "Epoch 23/100\n",
      "600/600 [==============================] - 2s 3ms/step - loss: 1.0632 - accuracy: 0.6410\n",
      "Epoch 24/100\n",
      "600/600 [==============================] - 2s 3ms/step - loss: 1.0567 - accuracy: 0.6460\n",
      "Epoch 25/100\n",
      "600/600 [==============================] - 2s 3ms/step - loss: 1.0568 - accuracy: 0.6431\n",
      "Epoch 26/100\n",
      "600/600 [==============================] - 2s 3ms/step - loss: 1.0531 - accuracy: 0.6440\n",
      "Epoch 27/100\n",
      "600/600 [==============================] - 2s 3ms/step - loss: 1.0538 - accuracy: 0.6453\n",
      "Epoch 28/100\n",
      "600/600 [==============================] - 2s 3ms/step - loss: 1.0519 - accuracy: 0.6460\n",
      "Epoch 29/100\n",
      "600/600 [==============================] - 2s 3ms/step - loss: 1.0544 - accuracy: 0.6434\n",
      "Epoch 30/100\n",
      "600/600 [==============================] - 2s 3ms/step - loss: 1.0495 - accuracy: 0.6456\n",
      "Epoch 31/100\n",
      "600/600 [==============================] - 2s 3ms/step - loss: 1.0499 - accuracy: 0.6470\n",
      "Epoch 32/100\n",
      "600/600 [==============================] - 2s 3ms/step - loss: 1.0468 - accuracy: 0.6478\n",
      "Epoch 33/100\n",
      "600/600 [==============================] - 2s 3ms/step - loss: 1.0448 - accuracy: 0.6474\n",
      "Epoch 34/100\n",
      "600/600 [==============================] - 2s 3ms/step - loss: 1.0437 - accuracy: 0.6485\n",
      "Epoch 35/100\n",
      "600/600 [==============================] - 2s 3ms/step - loss: 1.0425 - accuracy: 0.6491\n",
      "Epoch 36/100\n",
      "600/600 [==============================] - 2s 3ms/step - loss: 1.0411 - accuracy: 0.6500\n",
      "Epoch 37/100\n",
      "600/600 [==============================] - 2s 3ms/step - loss: 1.0414 - accuracy: 0.6491\n",
      "Epoch 38/100\n",
      "600/600 [==============================] - 2s 3ms/step - loss: 1.0398 - accuracy: 0.6484\n",
      "Epoch 39/100\n",
      "600/600 [==============================] - 2s 3ms/step - loss: 1.0422 - accuracy: 0.6494\n",
      "Epoch 40/100\n",
      "600/600 [==============================] - 2s 3ms/step - loss: 1.0374 - accuracy: 0.6512\n",
      "Epoch 41/100\n",
      "600/600 [==============================] - 1s 2ms/step - loss: 1.0404 - accuracy: 0.6493\n",
      "Epoch 42/100\n",
      "600/600 [==============================] - 2s 3ms/step - loss: 1.0363 - accuracy: 0.6513\n",
      "Epoch 43/100\n",
      "600/600 [==============================] - 2s 3ms/step - loss: 1.0387 - accuracy: 0.6493\n",
      "Epoch 44/100\n",
      "600/600 [==============================] - 2s 3ms/step - loss: 1.0390 - accuracy: 0.6486\n",
      "Epoch 45/100\n",
      "600/600 [==============================] - 2s 3ms/step - loss: 1.0371 - accuracy: 0.6482\n",
      "Epoch 46/100\n",
      "600/600 [==============================] - 2s 3ms/step - loss: 1.0384 - accuracy: 0.6480\n",
      "Epoch 47/100\n",
      "600/600 [==============================] - 2s 3ms/step - loss: 1.0375 - accuracy: 0.6494\n",
      "Epoch 48/100\n",
      "600/600 [==============================] - 2s 3ms/step - loss: 1.0364 - accuracy: 0.6509\n",
      "Epoch 49/100\n",
      "600/600 [==============================] - 2s 3ms/step - loss: 1.0397 - accuracy: 0.6467\n",
      "Epoch 50/100\n",
      "600/600 [==============================] - 2s 3ms/step - loss: 1.0362 - accuracy: 0.6504\n",
      "Epoch 51/100\n",
      "600/600 [==============================] - 2s 3ms/step - loss: 1.0328 - accuracy: 0.6517\n",
      "Epoch 52/100\n",
      "600/600 [==============================] - 2s 3ms/step - loss: 1.0345 - accuracy: 0.6506\n",
      "Epoch 53/100\n",
      "600/600 [==============================] - 2s 3ms/step - loss: 1.0358 - accuracy: 0.6500\n",
      "Epoch 54/100\n",
      "600/600 [==============================] - 2s 3ms/step - loss: 1.0394 - accuracy: 0.6483\n",
      "Epoch 55/100\n",
      "600/600 [==============================] - 2s 3ms/step - loss: 1.0358 - accuracy: 0.6488\n",
      "Epoch 56/100\n",
      "600/600 [==============================] - 1s 2ms/step - loss: 1.0340 - accuracy: 0.6495\n",
      "Epoch 57/100\n",
      "600/600 [==============================] - 2s 3ms/step - loss: 1.0339 - accuracy: 0.6497\n",
      "Epoch 58/100\n",
      "600/600 [==============================] - 2s 3ms/step - loss: 1.0377 - accuracy: 0.6470\n",
      "Epoch 59/100\n",
      "600/600 [==============================] - 2s 3ms/step - loss: 1.0353 - accuracy: 0.6506\n",
      "Epoch 60/100\n",
      "600/600 [==============================] - 1s 2ms/step - loss: 1.0356 - accuracy: 0.6488\n",
      "Epoch 61/100\n",
      "600/600 [==============================] - 2s 3ms/step - loss: 1.0363 - accuracy: 0.6499\n",
      "Epoch 62/100\n",
      "600/600 [==============================] - 2s 3ms/step - loss: 1.0389 - accuracy: 0.6488\n",
      "Epoch 63/100\n",
      "600/600 [==============================] - 2s 3ms/step - loss: 1.0330 - accuracy: 0.6504\n",
      "Epoch 64/100\n",
      "600/600 [==============================] - 2s 3ms/step - loss: 1.0353 - accuracy: 0.6496\n",
      "Epoch 65/100\n",
      "600/600 [==============================] - 2s 3ms/step - loss: 1.0336 - accuracy: 0.6492\n",
      "Epoch 66/100\n",
      "600/600 [==============================] - 2s 3ms/step - loss: 1.0331 - accuracy: 0.6517\n",
      "Epoch 67/100\n",
      "600/600 [==============================] - 2s 3ms/step - loss: 1.0362 - accuracy: 0.6502\n",
      "Epoch 68/100\n",
      "600/600 [==============================] - 2s 3ms/step - loss: 1.0311 - accuracy: 0.6515\n",
      "Epoch 69/100\n",
      "600/600 [==============================] - 2s 3ms/step - loss: 1.0318 - accuracy: 0.6505\n",
      "Epoch 70/100\n",
      "600/600 [==============================] - 2s 3ms/step - loss: 1.0371 - accuracy: 0.6474\n",
      "Epoch 71/100\n",
      "600/600 [==============================] - 2s 3ms/step - loss: 1.0354 - accuracy: 0.6481\n",
      "Epoch 72/100\n",
      "600/600 [==============================] - 2s 3ms/step - loss: 1.0328 - accuracy: 0.6498\n",
      "Epoch 73/100\n",
      "600/600 [==============================] - 2s 3ms/step - loss: 1.0376 - accuracy: 0.6487\n",
      "Epoch 74/100\n",
      "600/600 [==============================] - 2s 3ms/step - loss: 1.0338 - accuracy: 0.6496\n",
      "Epoch 75/100\n",
      "600/600 [==============================] - 2s 3ms/step - loss: 1.0308 - accuracy: 0.6508\n",
      "Epoch 76/100\n",
      "600/600 [==============================] - 2s 3ms/step - loss: 1.0347 - accuracy: 0.6481\n",
      "Epoch 77/100\n",
      "600/600 [==============================] - 2s 3ms/step - loss: 1.0301 - accuracy: 0.6535\n",
      "Epoch 78/100\n",
      "600/600 [==============================] - 2s 3ms/step - loss: 1.0308 - accuracy: 0.6531\n",
      "Epoch 79/100\n",
      "600/600 [==============================] - 2s 3ms/step - loss: 1.0344 - accuracy: 0.6496\n",
      "Epoch 80/100\n",
      "600/600 [==============================] - 2s 3ms/step - loss: 1.0356 - accuracy: 0.6487\n",
      "Epoch 81/100\n",
      "600/600 [==============================] - 2s 3ms/step - loss: 1.0299 - accuracy: 0.6496\n",
      "Epoch 82/100\n",
      "600/600 [==============================] - 2s 3ms/step - loss: 1.0337 - accuracy: 0.6503\n",
      "Epoch 83/100\n",
      "600/600 [==============================] - 2s 3ms/step - loss: 1.0326 - accuracy: 0.6500\n",
      "Epoch 84/100\n",
      "600/600 [==============================] - 2s 3ms/step - loss: 1.0309 - accuracy: 0.6523\n",
      "Epoch 85/100\n",
      "600/600 [==============================] - 2s 3ms/step - loss: 1.0319 - accuracy: 0.6503\n",
      "Epoch 86/100\n",
      "600/600 [==============================] - 1s 2ms/step - loss: 1.0279 - accuracy: 0.6511\n",
      "Epoch 87/100\n",
      "600/600 [==============================] - 2s 3ms/step - loss: 1.0319 - accuracy: 0.6499\n",
      "Epoch 88/100\n",
      "600/600 [==============================] - 2s 3ms/step - loss: 1.0283 - accuracy: 0.6523\n",
      "Epoch 89/100\n",
      "600/600 [==============================] - 2s 3ms/step - loss: 1.0359 - accuracy: 0.6473\n",
      "Epoch 90/100\n",
      "600/600 [==============================] - 2s 3ms/step - loss: 1.0301 - accuracy: 0.6502\n",
      "Epoch 91/100\n",
      "600/600 [==============================] - 2s 3ms/step - loss: 1.0288 - accuracy: 0.6507\n",
      "Epoch 92/100\n",
      "600/600 [==============================] - 1s 2ms/step - loss: 1.0295 - accuracy: 0.6512\n",
      "Epoch 93/100\n",
      "600/600 [==============================] - 2s 3ms/step - loss: 1.0288 - accuracy: 0.6546\n",
      "Epoch 94/100\n",
      "600/600 [==============================] - 2s 3ms/step - loss: 1.0320 - accuracy: 0.6487\n",
      "Epoch 95/100\n",
      "600/600 [==============================] - 2s 3ms/step - loss: 1.0256 - accuracy: 0.6548\n",
      "Epoch 96/100\n",
      "600/600 [==============================] - 1s 2ms/step - loss: 1.0272 - accuracy: 0.6538\n",
      "Epoch 97/100\n",
      "600/600 [==============================] - 2s 3ms/step - loss: 1.0263 - accuracy: 0.6536\n",
      "Epoch 98/100\n",
      "600/600 [==============================] - 2s 3ms/step - loss: 1.0297 - accuracy: 0.6520\n",
      "Epoch 99/100\n",
      "600/600 [==============================] - 2s 3ms/step - loss: 1.0300 - accuracy: 0.6510\n",
      "Epoch 100/100\n",
      "600/600 [==============================] - 2s 3ms/step - loss: 1.0306 - accuracy: 0.6518\n",
      "Test loss: 1.045938491821289\n",
      "Test accuracy: 0.6606000065803528\n"
     ]
    }
   ],
   "source": [
    "hist = model.fit(x = X_train, y = y_train_e,\n",
    "                epochs = 100,\n",
    "                verbose = 1,\n",
    "                batch_size=100)\n",
    "\n",
    "score = model.evaluate(X_test, y_test_e, verbose = 0)\n",
    "print('Test loss:', score[0])\n",
    "print('Test accuracy:', score[1])"
   ]
  },
  {
   "cell_type": "code",
   "execution_count": 46,
   "metadata": {},
   "outputs": [
    {
     "name": "stdout",
     "output_type": "stream",
     "text": [
      "Model: \"sequential_4\"\n",
      "_________________________________________________________________\n",
      "Layer (type)                 Output Shape              Param #   \n",
      "=================================================================\n",
      "dense_7 (Dense)              (None, 256)               200960    \n",
      "_________________________________________________________________\n",
      "dense_8 (Dense)              (None, 128)               32896     \n",
      "_________________________________________________________________\n",
      "dense_9 (Dense)              (None, 10)                1290      \n",
      "=================================================================\n",
      "Total params: 235,146\n",
      "Trainable params: 235,146\n",
      "Non-trainable params: 0\n",
      "_________________________________________________________________\n"
     ]
    }
   ],
   "source": [
    "model = Sequential()\n",
    "model.add(Dense(256, input_dim=784, activation='relu')) \n",
    "model.add(Dense(128, activation = 'relu')) \n",
    "model.add(Dense(10, activation = 'softmax')) \n",
    "model.compile(loss = 'categorical_crossentropy', optimizer = 'adam',metrics = ['accuracy']) \n",
    "model.summary()"
   ]
  },
  {
   "cell_type": "code",
   "execution_count": 48,
   "metadata": {},
   "outputs": [
    {
     "name": "stdout",
     "output_type": "stream",
     "text": [
      "Epoch 1/50\n",
      "600/600 [==============================] - 3s 4ms/step - loss: 2.2974 - accuracy: 0.8855\n",
      "Epoch 2/50\n",
      "600/600 [==============================] - 3s 4ms/step - loss: 0.3261 - accuracy: 0.9400\n",
      "Epoch 3/50\n",
      "600/600 [==============================] - 3s 4ms/step - loss: 0.1833 - accuracy: 0.9572\n",
      "Epoch 4/50\n",
      "600/600 [==============================] - 3s 4ms/step - loss: 0.1284 - accuracy: 0.9666\n",
      "Epoch 5/50\n",
      "600/600 [==============================] - 3s 4ms/step - loss: 0.1081 - accuracy: 0.9707\n",
      "Epoch 6/50\n",
      "600/600 [==============================] - 3s 4ms/step - loss: 0.0984 - accuracy: 0.9729\n",
      "Epoch 7/50\n",
      "600/600 [==============================] - 3s 4ms/step - loss: 0.0988 - accuracy: 0.9732\n",
      "Epoch 8/50\n",
      "600/600 [==============================] - 3s 4ms/step - loss: 0.0889 - accuracy: 0.9754\n",
      "Epoch 9/50\n",
      "600/600 [==============================] - 2s 4ms/step - loss: 0.0745 - accuracy: 0.9779\n",
      "Epoch 10/50\n",
      "600/600 [==============================] - 3s 4ms/step - loss: 0.0722 - accuracy: 0.9793\n",
      "Epoch 11/50\n",
      "600/600 [==============================] - 3s 4ms/step - loss: 0.0752 - accuracy: 0.9792\n",
      "Epoch 12/50\n",
      "600/600 [==============================] - 2s 4ms/step - loss: 0.0694 - accuracy: 0.9809\n",
      "Epoch 13/50\n",
      "600/600 [==============================] - 2s 4ms/step - loss: 0.0617 - accuracy: 0.9822\n",
      "Epoch 14/50\n",
      "600/600 [==============================] - 2s 4ms/step - loss: 0.0600 - accuracy: 0.9828\n",
      "Epoch 15/50\n",
      "600/600 [==============================] - 3s 4ms/step - loss: 0.0512 - accuracy: 0.9850\n",
      "Epoch 16/50\n",
      "600/600 [==============================] - 3s 4ms/step - loss: 0.0551 - accuracy: 0.9843\n",
      "Epoch 17/50\n",
      "600/600 [==============================] - 3s 4ms/step - loss: 0.0464 - accuracy: 0.9866\n",
      "Epoch 18/50\n",
      "600/600 [==============================] - 2s 4ms/step - loss: 0.0511 - accuracy: 0.9861\n",
      "Epoch 19/50\n",
      "600/600 [==============================] - 2s 4ms/step - loss: 0.0447 - accuracy: 0.9874\n",
      "Epoch 20/50\n",
      "600/600 [==============================] - 3s 4ms/step - loss: 0.0461 - accuracy: 0.9871\n",
      "Epoch 21/50\n",
      "600/600 [==============================] - 2s 4ms/step - loss: 0.0473 - accuracy: 0.9879\n",
      "Epoch 22/50\n",
      "600/600 [==============================] - 2s 4ms/step - loss: 0.0457 - accuracy: 0.9872\n",
      "Epoch 23/50\n",
      "600/600 [==============================] - 3s 4ms/step - loss: 0.0364 - accuracy: 0.9896\n",
      "Epoch 24/50\n",
      "600/600 [==============================] - 2s 4ms/step - loss: 0.0437 - accuracy: 0.9886\n",
      "Epoch 25/50\n",
      "600/600 [==============================] - 2s 4ms/step - loss: 0.0363 - accuracy: 0.9906\n",
      "Epoch 26/50\n",
      "600/600 [==============================] - 3s 4ms/step - loss: 0.0363 - accuracy: 0.9912\n",
      "Epoch 27/50\n",
      "600/600 [==============================] - 3s 4ms/step - loss: 0.0384 - accuracy: 0.9904\n",
      "Epoch 28/50\n",
      "600/600 [==============================] - 2s 4ms/step - loss: 0.0290 - accuracy: 0.9923\n",
      "Epoch 29/50\n",
      "600/600 [==============================] - 2s 4ms/step - loss: 0.0367 - accuracy: 0.9910\n",
      "Epoch 30/50\n",
      "600/600 [==============================] - 2s 4ms/step - loss: 0.0315 - accuracy: 0.9919\n",
      "Epoch 31/50\n",
      "600/600 [==============================] - 2s 4ms/step - loss: 0.0311 - accuracy: 0.9923\n",
      "Epoch 32/50\n",
      "600/600 [==============================] - 2s 4ms/step - loss: 0.0255 - accuracy: 0.9935\n",
      "Epoch 33/50\n",
      "600/600 [==============================] - 3s 4ms/step - loss: 0.0343 - accuracy: 0.9918\n",
      "Epoch 34/50\n",
      "600/600 [==============================] - 2s 4ms/step - loss: 0.0253 - accuracy: 0.9937\n",
      "Epoch 35/50\n",
      "600/600 [==============================] - 2s 4ms/step - loss: 0.0284 - accuracy: 0.9936\n",
      "Epoch 36/50\n",
      "600/600 [==============================] - 3s 4ms/step - loss: 0.0295 - accuracy: 0.9934\n",
      "Epoch 37/50\n",
      "600/600 [==============================] - 2s 4ms/step - loss: 0.0333 - accuracy: 0.9926\n",
      "Epoch 38/50\n",
      "600/600 [==============================] - 3s 4ms/step - loss: 0.0312 - accuracy: 0.9933\n",
      "Epoch 39/50\n",
      "600/600 [==============================] - 3s 4ms/step - loss: 0.0294 - accuracy: 0.9933\n",
      "Epoch 40/50\n",
      "600/600 [==============================] - 3s 4ms/step - loss: 0.0278 - accuracy: 0.9937\n",
      "Epoch 41/50\n",
      "600/600 [==============================] - 3s 4ms/step - loss: 0.0303 - accuracy: 0.9935\n",
      "Epoch 42/50\n",
      "600/600 [==============================] - 3s 4ms/step - loss: 0.0307 - accuracy: 0.9932\n",
      "Epoch 43/50\n",
      "600/600 [==============================] - 3s 4ms/step - loss: 0.0229 - accuracy: 0.9949\n",
      "Epoch 44/50\n",
      "600/600 [==============================] - 3s 4ms/step - loss: 0.0262 - accuracy: 0.9944\n",
      "Epoch 45/50\n",
      "600/600 [==============================] - 3s 4ms/step - loss: 0.0243 - accuracy: 0.9950\n",
      "Epoch 46/50\n",
      "600/600 [==============================] - 3s 4ms/step - loss: 0.0242 - accuracy: 0.9948\n",
      "Epoch 47/50\n",
      "600/600 [==============================] - 3s 4ms/step - loss: 0.0247 - accuracy: 0.9948\n",
      "Epoch 48/50\n",
      "600/600 [==============================] - 3s 4ms/step - loss: 0.0213 - accuracy: 0.9955\n",
      "Epoch 49/50\n",
      "600/600 [==============================] - 2s 4ms/step - loss: 0.0228 - accuracy: 0.9952\n",
      "Epoch 50/50\n",
      "600/600 [==============================] - 3s 4ms/step - loss: 0.0335 - accuracy: 0.9938\n"
     ]
    }
   ],
   "source": [
    "hist = model.fit(x = X_train, y = y_train_e,\n",
    "                epochs = 50,\n",
    "                verbose = 1,\n",
    "                batch_size=100)"
   ]
  },
  {
   "cell_type": "code",
   "execution_count": 49,
   "metadata": {},
   "outputs": [
    {
     "name": "stdout",
     "output_type": "stream",
     "text": [
      "Test loss: 0.32570669054985046\n",
      "Test accuracy: 0.9707000255584717\n"
     ]
    }
   ],
   "source": [
    "score = model.evaluate(X_test, y_test_e, verbose = 0)\n",
    "print('Test loss:', score[0])\n",
    "print('Test accuracy:', score[1])"
   ]
  },
  {
   "cell_type": "markdown",
   "metadata": {},
   "source": [
    "### 정규화"
   ]
  },
  {
   "cell_type": "code",
   "execution_count": 50,
   "metadata": {},
   "outputs": [],
   "source": [
    "X_train = X_train / 255\n",
    "X_test = X_test / 255"
   ]
  },
  {
   "cell_type": "code",
   "execution_count": 51,
   "metadata": {},
   "outputs": [
    {
     "name": "stdout",
     "output_type": "stream",
     "text": [
      "Epoch 1/50\n",
      "600/600 [==============================] - 3s 4ms/step - loss: 0.1442 - accuracy: 0.9518\n",
      "Epoch 2/50\n",
      "600/600 [==============================] - 3s 4ms/step - loss: 0.0102 - accuracy: 0.9978\n",
      "Epoch 3/50\n",
      "600/600 [==============================] - 3s 4ms/step - loss: 0.0050 - accuracy: 0.9991\n",
      "Epoch 4/50\n",
      "600/600 [==============================] - 3s 4ms/step - loss: 0.0026 - accuracy: 0.9995\n",
      "Epoch 5/50\n",
      "600/600 [==============================] - 3s 4ms/step - loss: 0.0019 - accuracy: 0.9997\n",
      "Epoch 6/50\n",
      "600/600 [==============================] - 3s 4ms/step - loss: 0.0033 - accuracy: 0.9992\n",
      "Epoch 7/50\n",
      "600/600 [==============================] - 3s 4ms/step - loss: 0.0027 - accuracy: 0.9995\n",
      "Epoch 8/50\n",
      "600/600 [==============================] - 3s 4ms/step - loss: 0.0034 - accuracy: 0.9992\n",
      "Epoch 9/50\n",
      "600/600 [==============================] - 3s 4ms/step - loss: 0.0079 - accuracy: 0.9977\n",
      "Epoch 10/50\n",
      "600/600 [==============================] - 3s 4ms/step - loss: 0.0043 - accuracy: 0.9984\n",
      "Epoch 11/50\n",
      "600/600 [==============================] - 3s 4ms/step - loss: 0.0043 - accuracy: 0.9985\n",
      "Epoch 12/50\n",
      "600/600 [==============================] - 3s 4ms/step - loss: 0.0040 - accuracy: 0.9987\n",
      "Epoch 13/50\n",
      "600/600 [==============================] - 3s 4ms/step - loss: 0.0053 - accuracy: 0.9981\n",
      "Epoch 14/50\n",
      "600/600 [==============================] - 3s 4ms/step - loss: 0.0012 - accuracy: 0.9997\n",
      "Epoch 15/50\n",
      "600/600 [==============================] - 3s 4ms/step - loss: 0.0018 - accuracy: 0.9995\n",
      "Epoch 16/50\n",
      "600/600 [==============================] - 3s 5ms/step - loss: 0.0049 - accuracy: 0.9983\n",
      "Epoch 17/50\n",
      "600/600 [==============================] - 3s 4ms/step - loss: 0.0040 - accuracy: 0.9987\n",
      "Epoch 18/50\n",
      "600/600 [==============================] - 3s 4ms/step - loss: 0.0038 - accuracy: 0.9987\n",
      "Epoch 19/50\n",
      "600/600 [==============================] - 3s 4ms/step - loss: 0.0025 - accuracy: 0.9993\n",
      "Epoch 20/50\n",
      "600/600 [==============================] - 3s 4ms/step - loss: 0.0026 - accuracy: 0.9992\n",
      "Epoch 21/50\n",
      "600/600 [==============================] - 3s 4ms/step - loss: 3.2403e-04 - accuracy: 0.9999\n",
      "Epoch 22/50\n",
      "600/600 [==============================] - 3s 4ms/step - loss: 9.4799e-05 - accuracy: 1.0000\n",
      "Epoch 23/50\n",
      "600/600 [==============================] - 3s 5ms/step - loss: 2.2455e-05 - accuracy: 1.0000\n",
      "Epoch 24/50\n",
      "600/600 [==============================] - 3s 5ms/step - loss: 1.2930e-05 - accuracy: 1.0000\n",
      "Epoch 25/50\n",
      "600/600 [==============================] - 3s 4ms/step - loss: 9.4221e-06 - accuracy: 1.0000\n",
      "Epoch 26/50\n",
      "600/600 [==============================] - 3s 4ms/step - loss: 7.1913e-06 - accuracy: 1.0000\n",
      "Epoch 27/50\n",
      "600/600 [==============================] - 3s 5ms/step - loss: 5.5262e-06 - accuracy: 1.0000\n",
      "Epoch 28/50\n",
      "600/600 [==============================] - 3s 4ms/step - loss: 4.2951e-06 - accuracy: 1.0000\n",
      "Epoch 29/50\n",
      "600/600 [==============================] - 3s 5ms/step - loss: 3.3377e-06 - accuracy: 1.0000\n",
      "Epoch 30/50\n",
      "600/600 [==============================] - 3s 5ms/step - loss: 2.5648e-06 - accuracy: 1.0000\n",
      "Epoch 31/50\n",
      "600/600 [==============================] - 3s 5ms/step - loss: 2.0079e-06 - accuracy: 1.0000\n",
      "Epoch 32/50\n",
      "600/600 [==============================] - 3s 4ms/step - loss: 1.5396e-06 - accuracy: 1.0000\n",
      "Epoch 33/50\n",
      "600/600 [==============================] - 3s 4ms/step - loss: 1.1975e-06 - accuracy: 1.0000\n",
      "Epoch 34/50\n",
      "600/600 [==============================] - 3s 4ms/step - loss: 9.0212e-07 - accuracy: 1.0000\n",
      "Epoch 35/50\n",
      "600/600 [==============================] - 3s 5ms/step - loss: 6.9747e-07 - accuracy: 1.0000\n",
      "Epoch 36/50\n",
      "600/600 [==============================] - 3s 5ms/step - loss: 5.3823e-07 - accuracy: 1.0000\n",
      "Epoch 37/50\n",
      "600/600 [==============================] - 3s 5ms/step - loss: 4.0988e-07 - accuracy: 1.0000\n",
      "Epoch 38/50\n",
      "600/600 [==============================] - 3s 4ms/step - loss: 3.2031e-07 - accuracy: 1.0000\n",
      "Epoch 39/50\n",
      "600/600 [==============================] - 3s 5ms/step - loss: 2.3605e-07 - accuracy: 1.0000\n",
      "Epoch 40/50\n",
      "600/600 [==============================] - 3s 4ms/step - loss: 1.8142e-07 - accuracy: 1.0000\n",
      "Epoch 41/50\n",
      "600/600 [==============================] - 3s 4ms/step - loss: 1.4506e-07 - accuracy: 1.0000\n",
      "Epoch 42/50\n",
      "600/600 [==============================] - 3s 4ms/step - loss: 1.0500e-07 - accuracy: 1.0000\n",
      "Epoch 43/50\n",
      "600/600 [==============================] - 3s 4ms/step - loss: 8.0452e-08 - accuracy: 1.0000\n",
      "Epoch 44/50\n",
      "600/600 [==============================] - 3s 4ms/step - loss: 6.4703e-08 - accuracy: 1.0000\n",
      "Epoch 45/50\n",
      "600/600 [==============================] - 3s 4ms/step - loss: 4.8091e-08 - accuracy: 1.0000\n",
      "Epoch 46/50\n",
      "600/600 [==============================] - 3s 4ms/step - loss: 3.7158e-08 - accuracy: 1.0000\n",
      "Epoch 47/50\n",
      "600/600 [==============================] - 3s 4ms/step - loss: 0.0091 - accuracy: 0.9981\n",
      "Epoch 48/50\n",
      "600/600 [==============================] - 3s 4ms/step - loss: 0.0104 - accuracy: 0.9967\n",
      "Epoch 49/50\n",
      "600/600 [==============================] - 2s 4ms/step - loss: 0.0023 - accuracy: 0.9993\n",
      "Epoch 50/50\n",
      "600/600 [==============================] - 3s 4ms/step - loss: 0.0013 - accuracy: 0.9996\n"
     ]
    }
   ],
   "source": [
    "hist = model.fit(x = X_train, y = y_train_e,\n",
    "                epochs = 50,\n",
    "                verbose = 1,\n",
    "                batch_size=100)"
   ]
  },
  {
   "cell_type": "code",
   "execution_count": 52,
   "metadata": {},
   "outputs": [
    {
     "name": "stdout",
     "output_type": "stream",
     "text": [
      "Test loss: 0.12981492280960083\n",
      "Test accuracy: 0.9818000197410583\n"
     ]
    }
   ],
   "source": [
    "score = model.evaluate(X_test, y_test_e, verbose = 0)\n",
    "print('Test loss:', score[0])\n",
    "print('Test accuracy:', score[1])"
   ]
  },
  {
   "cell_type": "markdown",
   "metadata": {},
   "source": [
    "## 3. CNN"
   ]
  },
  {
   "cell_type": "markdown",
   "metadata": {},
   "source": [
    "### model1"
   ]
  },
  {
   "cell_type": "code",
   "execution_count": 53,
   "metadata": {},
   "outputs": [
    {
     "name": "stdout",
     "output_type": "stream",
     "text": [
      "(60000, 28, 28, 1)\n",
      "(10000, 28, 28, 1)\n"
     ]
    }
   ],
   "source": [
    "(X_train, y_train), (X_test, y_test) = mnist.load_data()\n",
    "\n",
    "X_train = X_train.reshape((60000,28,28,1))\n",
    "X_test = X_test.reshape((10000,28,28,1))\n",
    "y_train_e = to_categorical(y_train)\n",
    "y_test_e = to_categorical(y_test)\n",
    "\n",
    "print(X_train.shape)\n",
    "print(X_test.shape)\n",
    "\n",
    "X_train = X_train/255\n",
    "X_test = X_test/255"
   ]
  },
  {
   "cell_type": "code",
   "execution_count": null,
   "metadata": {},
   "outputs": [],
   "source": [
    "model = Sequential()\n",
    "\n",
    "model.add(Conv2D(input_shape=(28,28,1), filters = 50, kernel_size= (3,3), \n",
    "                strides = (1,1), padding = 'same')) \n",
    "model.add(Activation('relu'))\n",
    "model.add(MaxPooling2D(pool_size=(2,2)))\n",
    "\n",
    "model.add(Flatten())\n",
    "model.add(Dense(256, activation = 'relu')) \n",
    "model.add(Dense(10, activation = 'softmax')) \n",
    "adam = optimizers.Adam(lr = 0.001)\n",
    "model.compile(loss = 'categorical_crossentropy', optimizer =adam, \n",
    "              metrics = ['accuracy']) \n"
   ]
  },
  {
   "cell_type": "code",
   "execution_count": 55,
   "metadata": {},
   "outputs": [
    {
     "name": "stdout",
     "output_type": "stream",
     "text": [
      "Model: \"sequential_5\"\n",
      "_________________________________________________________________\n",
      "Layer (type)                 Output Shape              Param #   \n",
      "=================================================================\n",
      "conv2d (Conv2D)              (None, 28, 28, 50)        500       \n",
      "_________________________________________________________________\n",
      "activation (Activation)      (None, 28, 28, 50)        0         \n",
      "_________________________________________________________________\n",
      "max_pooling2d (MaxPooling2D) (None, 14, 14, 50)        0         \n",
      "_________________________________________________________________\n",
      "flatten (Flatten)            (None, 9800)              0         \n",
      "_________________________________________________________________\n",
      "dense_10 (Dense)             (None, 256)               2509056   \n",
      "_________________________________________________________________\n",
      "dense_11 (Dense)             (None, 10)                2570      \n",
      "=================================================================\n",
      "Total params: 2,512,126\n",
      "Trainable params: 2,512,126\n",
      "Non-trainable params: 0\n",
      "_________________________________________________________________\n"
     ]
    }
   ],
   "source": [
    "model.summary() \n",
    "\n",
    "# input -> 60000 x 28 x 28 x 1\n",
    "# layer -> ?, 28 x 28 x 50            500 = 3 x 3 x 50 + 50\n",
    "# dense layer -> 9800*256 + 256"
   ]
  },
  {
   "cell_type": "markdown",
   "metadata": {},
   "source": [
    "### model2"
   ]
  },
  {
   "cell_type": "code",
   "execution_count": 62,
   "metadata": {},
   "outputs": [],
   "source": [
    "model = Sequential()\n",
    "\n",
    "model.add(Conv2D(input_shape=(28,28,1), filters = 50, kernel_size= (3,3), \n",
    "                strides = (1,1), padding = 'same')) \n",
    "model.add(Activation('relu'))\n",
    "model.add(MaxPooling2D(pool_size=(2,2)))\n",
    "model.add(Conv2D(filters = 30, kernel_size= (3,3), \n",
    "                strides = (1,1), padding = 'same')) \n",
    "model.add(Activation('relu'))\n",
    "model.add(MaxPooling2D(pool_size=(2,2)))\n",
    "\n",
    "\n",
    "model.add(Flatten())\n",
    "model.add(Dense(256, activation = 'relu')) \n",
    "model.add(Dense(10, activation = 'softmax')) \n",
    "adam = optimizers.Adam(lr = 0.001)\n",
    "model.compile(loss = 'categorical_crossentropy', optimizer =adam, \n",
    "              metrics = ['accuracy']) "
   ]
  },
  {
   "cell_type": "code",
   "execution_count": 63,
   "metadata": {},
   "outputs": [
    {
     "name": "stdout",
     "output_type": "stream",
     "text": [
      "Model: \"sequential_8\"\n",
      "_________________________________________________________________\n",
      "Layer (type)                 Output Shape              Param #   \n",
      "=================================================================\n",
      "conv2d_5 (Conv2D)            (None, 28, 28, 50)        500       \n",
      "_________________________________________________________________\n",
      "activation_5 (Activation)    (None, 28, 28, 50)        0         \n",
      "_________________________________________________________________\n",
      "max_pooling2d_5 (MaxPooling2 (None, 14, 14, 50)        0         \n",
      "_________________________________________________________________\n",
      "conv2d_6 (Conv2D)            (None, 14, 14, 30)        13530     \n",
      "_________________________________________________________________\n",
      "activation_6 (Activation)    (None, 14, 14, 30)        0         \n",
      "_________________________________________________________________\n",
      "max_pooling2d_6 (MaxPooling2 (None, 7, 7, 30)          0         \n",
      "_________________________________________________________________\n",
      "flatten_3 (Flatten)          (None, 1470)              0         \n",
      "_________________________________________________________________\n",
      "dense_16 (Dense)             (None, 256)               376576    \n",
      "_________________________________________________________________\n",
      "dense_17 (Dense)             (None, 10)                2570      \n",
      "=================================================================\n",
      "Total params: 393,176\n",
      "Trainable params: 393,176\n",
      "Non-trainable params: 0\n",
      "_________________________________________________________________\n"
     ]
    }
   ],
   "source": [
    "model.summary() \n",
    "\n",
    "# layer conv1 - > 3 * 3 * 1 * 50 + 50 = 500\n",
    "#layer conv2 -> 3 * 3 * 50 * 30 + 30 = 13530"
   ]
  },
  {
   "cell_type": "code",
   "execution_count": 65,
   "metadata": {},
   "outputs": [
    {
     "name": "stdout",
     "output_type": "stream",
     "text": [
      "Epoch 1/5\n",
      "480/480 [==============================] - 34s 70ms/step - loss: 0.0153 - accuracy: 0.9951 - val_loss: 0.0423 - val_accuracy: 0.9893\n",
      "Epoch 2/5\n",
      "480/480 [==============================] - 34s 71ms/step - loss: 0.0128 - accuracy: 0.9955 - val_loss: 0.0358 - val_accuracy: 0.9898\n",
      "Epoch 3/5\n",
      "480/480 [==============================] - 34s 71ms/step - loss: 0.0105 - accuracy: 0.9968 - val_loss: 0.0413 - val_accuracy: 0.9893\n",
      "Epoch 4/5\n",
      "480/480 [==============================] - 34s 71ms/step - loss: 0.0091 - accuracy: 0.9969 - val_loss: 0.0406 - val_accuracy: 0.9906\n",
      "Epoch 5/5\n",
      "480/480 [==============================] - 34s 71ms/step - loss: 0.0074 - accuracy: 0.9973 - val_loss: 0.0354 - val_accuracy: 0.9916\n"
     ]
    }
   ],
   "source": [
    "hist = model.fit(x = X_train, y = y_train_e,\n",
    "                 epochs = 5, validation_split=0.2, \n",
    "                 verbose = 1,\n",
    "                 batch_size=100)"
   ]
  },
  {
   "cell_type": "code",
   "execution_count": 66,
   "metadata": {},
   "outputs": [
    {
     "name": "stdout",
     "output_type": "stream",
     "text": [
      "Test loss: 0.03477250412106514\n",
      "Test accuracy: 0.9904000163078308\n"
     ]
    }
   ],
   "source": [
    "score = model.evaluate(X_test, y_test_e, verbose = 0)\n",
    "print('Test loss:', score[0])\n",
    "print('Test accuracy:', score[1])"
   ]
  },
  {
   "cell_type": "code",
   "execution_count": 67,
   "metadata": {},
   "outputs": [],
   "source": [
    "model.save('mnist_cnn.h5')"
   ]
  },
  {
   "cell_type": "markdown",
   "metadata": {},
   "source": [
    "### model3"
   ]
  },
  {
   "cell_type": "code",
   "execution_count": 68,
   "metadata": {},
   "outputs": [
    {
     "name": "stdout",
     "output_type": "stream",
     "text": [
      "Model: \"sequential_9\"\n",
      "_________________________________________________________________\n",
      "Layer (type)                 Output Shape              Param #   \n",
      "=================================================================\n",
      "conv2d_7 (Conv2D)            (None, 28, 28, 50)        500       \n",
      "_________________________________________________________________\n",
      "activation_7 (Activation)    (None, 28, 28, 50)        0         \n",
      "_________________________________________________________________\n",
      "max_pooling2d_7 (MaxPooling2 (None, 14, 14, 50)        0         \n",
      "_________________________________________________________________\n",
      "conv2d_8 (Conv2D)            (None, 14, 14, 50)        22550     \n",
      "_________________________________________________________________\n",
      "activation_8 (Activation)    (None, 14, 14, 50)        0         \n",
      "_________________________________________________________________\n",
      "max_pooling2d_8 (MaxPooling2 (None, 7, 7, 50)          0         \n",
      "_________________________________________________________________\n",
      "conv2d_9 (Conv2D)            (None, 7, 7, 30)          13530     \n",
      "_________________________________________________________________\n",
      "activation_9 (Activation)    (None, 7, 7, 30)          0         \n",
      "_________________________________________________________________\n",
      "max_pooling2d_9 (MaxPooling2 (None, 3, 3, 30)          0         \n",
      "_________________________________________________________________\n",
      "flatten_4 (Flatten)          (None, 270)               0         \n",
      "_________________________________________________________________\n",
      "dense_18 (Dense)             (None, 100)               27100     \n",
      "_________________________________________________________________\n",
      "dense_19 (Dense)             (None, 10)                1010      \n",
      "=================================================================\n",
      "Total params: 64,690\n",
      "Trainable params: 64,690\n",
      "Non-trainable params: 0\n",
      "_________________________________________________________________\n"
     ]
    }
   ],
   "source": [
    "model = Sequential()\n",
    "\n",
    "model.add(Conv2D(input_shape=(28,28,1), filters = 50, kernel_size= (3,3), \n",
    "                strides = (1,1), padding = 'same')) \n",
    "model.add(Activation('relu'))\n",
    "model.add(MaxPooling2D(pool_size=(2,2)))\n",
    "\n",
    "model.add(Conv2D(filters = 50, kernel_size= (3,3), \n",
    "                strides = (1,1), padding = 'same')) \n",
    "model.add(Activation('relu'))\n",
    "model.add(MaxPooling2D(pool_size=(2,2)))\n",
    "\n",
    "model.add(Conv2D(filters = 30, kernel_size= (3,3), \n",
    "                strides = (1,1), padding = 'same')) \n",
    "model.add(Activation('relu'))\n",
    "model.add(MaxPooling2D(pool_size=(2,2)))\n",
    "\n",
    "\n",
    "model.add(Flatten())\n",
    "model.add(Dense(100, activation = 'relu')) \n",
    "model.add(Dense(10, activation = 'softmax')) \n",
    "\n",
    "adam = optimizers.Adam(lr = 0.001)\n",
    "model.compile(loss = 'categorical_crossentropy', optimizer =adam, \n",
    "              metrics = ['accuracy']) \n",
    "\n",
    "model.summary()"
   ]
  },
  {
   "cell_type": "code",
   "execution_count": 69,
   "metadata": {},
   "outputs": [
    {
     "name": "stdout",
     "output_type": "stream",
     "text": [
      "600/600 [==============================] - 47s 78ms/step - loss: 0.2388 - accuracy: 0.9270\n"
     ]
    }
   ],
   "source": [
    "hist = model.fit(x = X_train, y = y_train_e,\n",
    "                 epochs = 1, \n",
    "                 verbose = 1,\n",
    "                 batch_size=100)"
   ]
  },
  {
   "cell_type": "code",
   "execution_count": 70,
   "metadata": {},
   "outputs": [
    {
     "name": "stdout",
     "output_type": "stream",
     "text": [
      "Test loss: 0.057797424495220184\n",
      "Test accuracy: 0.9814000129699707\n"
     ]
    }
   ],
   "source": [
    "score = model.evaluate(X_test, y_test_e, verbose = 0)\n",
    "print('Test loss:', score[0])\n",
    "print('Test accuracy:', score[1])"
   ]
  },
  {
   "cell_type": "code",
   "execution_count": 71,
   "metadata": {},
   "outputs": [],
   "source": [
    "model.save('mnist_cnn_tiny.h5')"
   ]
  },
  {
   "cell_type": "markdown",
   "metadata": {},
   "source": [
    "### 저장한 학습 모델 적용해보기"
   ]
  },
  {
   "cell_type": "code",
   "execution_count": 73,
   "metadata": {},
   "outputs": [],
   "source": [
    "from keras.models import load_model\n",
    "\n",
    "md = load_model('mnist_cnn.h5')"
   ]
  },
  {
   "cell_type": "code",
   "execution_count": 75,
   "metadata": {},
   "outputs": [
    {
     "name": "stdout",
     "output_type": "stream",
     "text": [
      "Model: \"sequential_8\"\n",
      "_________________________________________________________________\n",
      "Layer (type)                 Output Shape              Param #   \n",
      "=================================================================\n",
      "conv2d_5 (Conv2D)            (None, 28, 28, 50)        500       \n",
      "_________________________________________________________________\n",
      "activation_5 (Activation)    (None, 28, 28, 50)        0         \n",
      "_________________________________________________________________\n",
      "max_pooling2d_5 (MaxPooling2 (None, 14, 14, 50)        0         \n",
      "_________________________________________________________________\n",
      "conv2d_6 (Conv2D)            (None, 14, 14, 30)        13530     \n",
      "_________________________________________________________________\n",
      "activation_6 (Activation)    (None, 14, 14, 30)        0         \n",
      "_________________________________________________________________\n",
      "max_pooling2d_6 (MaxPooling2 (None, 7, 7, 30)          0         \n",
      "_________________________________________________________________\n",
      "flatten_3 (Flatten)          (None, 1470)              0         \n",
      "_________________________________________________________________\n",
      "dense_16 (Dense)             (None, 256)               376576    \n",
      "_________________________________________________________________\n",
      "dense_17 (Dense)             (None, 10)                2570      \n",
      "=================================================================\n",
      "Total params: 393,176\n",
      "Trainable params: 393,176\n",
      "Non-trainable params: 0\n",
      "_________________________________________________________________\n"
     ]
    }
   ],
   "source": [
    "md.summary()"
   ]
  },
  {
   "cell_type": "code",
   "execution_count": 115,
   "metadata": {},
   "outputs": [
    {
     "data": {
      "text/plain": [
       "<matplotlib.image.AxesImage at 0x1249bfdcdc8>"
      ]
     },
     "execution_count": 115,
     "metadata": {},
     "output_type": "execute_result"
    },
    {
     "data": {
      "image/png": "[encoded data removed]",
      "text/plain": [
       "<Figure size 432x288 with 1 Axes>"
      ]
     },
     "metadata": {
      "needs_background": "light"
     },
     "output_type": "display_data"
    }
   ],
   "source": [
    "import cv2\n",
    "\n",
    "img = cv2.imread(DIR + '9.png', 0) / 255.0\n",
    "\n",
    "plt.imshow(img)"
   ]
  },
  {
   "cell_type": "code",
   "execution_count": 111,
   "metadata": {},
   "outputs": [
    {
     "name": "stdout",
     "output_type": "stream",
     "text": [
      "number: 0 predicted: 0\n",
      "number: 1 predicted: 1\n",
      "number: 2 predicted: 2\n",
      "number: 3 predicted: 3\n",
      "number: 4 predicted: 4\n",
      "number: 5 predicted: 5\n",
      "number: 6 predicted: 6\n",
      "number: 7 predicted: 7\n",
      "number: 8 predicted: 8\n",
      "number: 9 predicted: 7\n"
     ]
    }
   ],
   "source": [
    "for i in range(10):\n",
    "    img = cv2.imread(DIR + str(i) + '.png', 0) / 255.0\n",
    "\n",
    "    img = img.reshape(1, 28, 28, 1)\n",
    "    p = md.predict(img)\n",
    "    \n",
    "    print('number:', i, 'predicted:', np.argmax(p))"
   ]
  },
  {
   "cell_type": "code",
   "execution_count": 112,
   "metadata": {},
   "outputs": [
    {
     "name": "stdout",
     "output_type": "stream",
     "text": [
      "[[6.7047549e-16 4.1374639e-07 2.6550028e-06 9.4597921e-04 1.4165739e-10\n",
      "  4.6066904e-07 1.1810975e-14 9.9567658e-01 7.0446646e-07 3.3731342e-03]]\n",
      "7\n"
     ]
    }
   ],
   "source": [
    "p = md.predict(img)\n",
    "print(p)\n",
    "print(np.argmax(p))"
   ]
  },
  {
   "cell_type": "code",
   "execution_count": 103,
   "metadata": {},
   "outputs": [
    {
     "data": {
      "text/plain": [
       "[<matplotlib.lines.Line2D at 0x1249bc37588>]"
      ]
     },
     "execution_count": 103,
     "metadata": {},
     "output_type": "execute_result"
    },
    {
     "data": {
      "image/png": "[encoded data removed]",
      "text/plain": [
       "<Figure size 432x288 with 1 Axes>"
      ]
     },
     "metadata": {
      "needs_background": "light"
     },
     "output_type": "display_data"
    }
   ],
   "source": [
    "import matplotlib.pyplot as plt\n",
    "\n",
    "plt.plot(p[0])"
   ]
  },
  {
   "cell_type": "markdown",
   "metadata": {},
   "source": [
    "## Web 연동"
   ]
  },
  {
   "cell_type": "code",
   "execution_count": 6,
   "metadata": {},
   "outputs": [
    {
     "data": {
      "text/plain": [
       "'2.2.0'"
      ]
     },
     "execution_count": 6,
     "metadata": {},
     "output_type": "execute_result"
    }
   ],
   "source": [
    "import tensorflow as tf\n",
    "tf.__version__"
   ]
  },
  {
   "cell_type": "code",
   "execution_count": 8,
   "metadata": {},
   "outputs": [
    {
     "name": "stdout",
     "output_type": "stream",
     "text": [
      "Overwriting server.py\n"
     ]
    }
   ],
   "source": [
    "%%writefile server.py\n",
    "\n",
    "import flask\n",
    "from flask import Flask,render_template,url_for,request\n",
    "import base64\n",
    "import numpy as np\n",
    "import cv2\n",
    "from keras.models import load_model\n",
    "\n",
    "init_Base64 = 21   # data:image/png;base64, 로 시작하\n",
    "app = Flask(__name__)\n",
    "model = load_model('mnist_cnn_tiny.h5')\n",
    "\n",
    "@app.route('/')\n",
    "def home():\n",
    "    return render_template(\"mnist.html\")\n",
    "\n",
    "\n",
    "@app.route('/upload', methods=['POST'])\n",
    "def upload():\n",
    "    \n",
    "    draw = request.form['url']        # hidden 변수로 전달함            \n",
    "    draw = draw[init_Base64:]\n",
    "    draw_decoded = base64.b64decode(draw)\n",
    "    image = np.asarray(bytearray(draw_decoded), dtype=\"uint8\")\n",
    "    image = cv2.imdecode(image, cv2.IMREAD_GRAYSCALE)\n",
    "    image = cv2.resize(image, dsize=(28,28), interpolation=cv2.INTER_AREA)\n",
    "    cv2.imwrite('test.png', image)\n",
    "    image = image.reshape(1,28,28,1)\n",
    "    p = model.predict(image)\n",
    "    p = np.argmax(p)\n",
    "\n",
    "    return f\"result:{p} <a href=javascript:history.back()>뒤로</a>\"\n",
    "\n",
    "if __name__ == '__main__':\n",
    "    model = load_model('mnist_cnn_tiny.h5')   \n",
    "    app.run(host='0.0.0.0', debug=True, port=8000)"
   ]
  },
  {
   "cell_type": "markdown",
   "metadata": {},
   "source": [
    "## 한글 인식"
   ]
  },
  {
   "cell_type": "code",
   "execution_count": 12,
   "metadata": {},
   "outputs": [],
   "source": [
    "model = load_model('hand_written_korean_classification.hdf5')"
   ]
  },
  {
   "cell_type": "code",
   "execution_count": 13,
   "metadata": {},
   "outputs": [
    {
     "name": "stdout",
     "output_type": "stream",
     "text": [
      "Model: \"sequential_1\"\n",
      "_________________________________________________________________\n",
      "Layer (type)                 Output Shape              Param #   \n",
      "=================================================================\n",
      "conv2d_1 (Conv2D)            (None, 32, 32, 32)        896       \n",
      "_________________________________________________________________\n",
      "activation_1 (Activation)    (None, 32, 32, 32)        0         \n",
      "_________________________________________________________________\n",
      "conv2d_2 (Conv2D)            (None, 30, 30, 32)        9248      \n",
      "_________________________________________________________________\n",
      "activation_2 (Activation)    (None, 30, 30, 32)        0         \n",
      "_________________________________________________________________\n",
      "max_pooling2d_1 (MaxPooling2 (None, 15, 15, 32)        0         \n",
      "_________________________________________________________________\n",
      "dropout_1 (Dropout)          (None, 15, 15, 32)        0         \n",
      "_________________________________________________________________\n",
      "conv2d_3 (Conv2D)            (None, 15, 15, 64)        18496     \n",
      "_________________________________________________________________\n",
      "activation_3 (Activation)    (None, 15, 15, 64)        0         \n",
      "_________________________________________________________________\n",
      "dropout_2 (Dropout)          (None, 15, 15, 64)        0         \n",
      "_________________________________________________________________\n",
      "conv2d_4 (Conv2D)            (None, 13, 13, 64)        36928     \n",
      "_________________________________________________________________\n",
      "activation_4 (Activation)    (None, 13, 13, 64)        0         \n",
      "_________________________________________________________________\n",
      "max_pooling2d_2 (MaxPooling2 (None, 6, 6, 64)          0         \n",
      "_________________________________________________________________\n",
      "dropout_3 (Dropout)          (None, 6, 6, 64)          0         \n",
      "_________________________________________________________________\n",
      "flatten_1 (Flatten)          (None, 2304)              0         \n",
      "_________________________________________________________________\n",
      "dense_1 (Dense)              (None, 512)               1180160   \n",
      "_________________________________________________________________\n",
      "activation_5 (Activation)    (None, 512)               0         \n",
      "_________________________________________________________________\n",
      "dropout_4 (Dropout)          (None, 512)               0         \n",
      "_________________________________________________________________\n",
      "dense_2 (Dense)              (None, 980)               502740    \n",
      "_________________________________________________________________\n",
      "activation_6 (Activation)    (None, 980)               0         \n",
      "=================================================================\n",
      "Total params: 1,748,468\n",
      "Trainable params: 1,748,468\n",
      "Non-trainable params: 0\n",
      "_________________________________________________________________\n"
     ]
    }
   ],
   "source": [
    "model.summary()"
   ]
  },
  {
   "cell_type": "code",
   "execution_count": 17,
   "metadata": {},
   "outputs": [
    {
     "data": {
      "text/plain": [
       "<matplotlib.image.AxesImage at 0x1acdf1b01c8>"
      ]
     },
     "execution_count": 17,
     "metadata": {},
     "output_type": "execute_result"
    },
    {
     "data": {
      "image/png": "[encoded data removed]",
      "text/plain": [
       "<Figure size 432x288 with 1 Axes>"
      ]
     },
     "metadata": {
      "needs_background": "light"
     },
     "output_type": "display_data"
    }
   ],
   "source": [
    "image = cv2.imread(DIR +'ka.png')\n",
    "image = (255-image)/255\n",
    "plt.imshow(image)"
   ]
  },
  {
   "cell_type": "code",
   "execution_count": 19,
   "metadata": {},
   "outputs": [
    {
     "name": "stdout",
     "output_type": "stream",
     "text": [
      "0\n"
     ]
    }
   ],
   "source": [
    "image = image.reshape(1, 32, 32,3)\n",
    "p = model.predict(image)\n",
    "p = np.argmax(p)\n",
    "print(p)"
   ]
  },
  {
   "cell_type": "code",
   "execution_count": 22,
   "metadata": {},
   "outputs": [],
   "source": [
    "labels_file = io.open(\"label.txt\",'r', encoding='utf-8').read().split()\n",
    "label = [str for str in labels_file]"
   ]
  },
  {
   "cell_type": "code",
   "execution_count": 23,
   "metadata": {},
   "outputs": [
    {
     "name": "stdout",
     "output_type": "stream",
     "text": [
      "낙\n"
     ]
    },
    {
     "data": {
      "image/png": "[encoded data removed]",
      "text/plain": [
       "<Figure size 432x288 with 1 Axes>"
      ]
     },
     "metadata": {
      "needs_background": "light"
     },
     "output_type": "display_data"
    }
   ],
   "source": [
    "image = cv2.imread(DIR +'na.png')\n",
    "image = (255-image)/255\n",
    "plt.imshow(image)\n",
    "\n",
    "image = image.reshape(1, 32, 32,3)\n",
    "p = model.predict(image)\n",
    "p = np.argmax(p)\n",
    "print(label[p])"
   ]
  },
  {
   "cell_type": "code",
   "execution_count": 24,
   "metadata": {},
   "outputs": [
    {
     "name": "stdout",
     "output_type": "stream",
     "text": [
      "다\n"
     ]
    },
    {
     "data": {
      "image/png": "[encoded data removed]",
      "text/plain": [
       "<Figure size 432x288 with 1 Axes>"
      ]
     },
     "metadata": {
      "needs_background": "light"
     },
     "output_type": "display_data"
    }
   ],
   "source": [
    "image = cv2.imread(DIR +'da.png')\n",
    "image = (255-image)/255\n",
    "plt.imshow(image)\n",
    "\n",
    "image = image.reshape(1, 32, 32,3)\n",
    "p = model.predict(image)\n",
    "p = np.argmax(p)\n",
    "print(label[p])"
   ]
  },
  {
   "cell_type": "code",
   "execution_count": 28,
   "metadata": {},
   "outputs": [
    {
     "name": "stdout",
     "output_type": "stream",
     "text": [
      "Overwriting server.py\n"
     ]
    }
   ],
   "source": [
    "%%writefile server.py\n",
    "\n",
    "import flask\n",
    "from flask import Flask,render_template,url_for,request\n",
    "import base64\n",
    "import numpy as np\n",
    "import cv2\n",
    "from keras.models import load_model\n",
    "import io\n",
    "\n",
    "init_Base64 = 21   # data:image/png;base64, 로 시작하\n",
    "app = Flask(__name__)\n",
    "model = load_model('mnist_cnn_tiny.h5')\n",
    "modelH = load_model('hand_written_korean_classification.hdf5')\n",
    "\n",
    "labels_file = io.open(\"label.txt\",'r', encoding='utf-8').read().split()\n",
    "label = [str for str in labels_file]\n",
    "\n",
    "\n",
    "@app.route('/')\n",
    "def home():\n",
    "    return render_template(\"mnist.html\")\n",
    "\n",
    "\n",
    "@app.route('/upload', methods=['POST'])\n",
    "def upload():\n",
    "    \n",
    "    draw = request.form['url']        # hidden 변수로 전달함            \n",
    "    draw = draw[init_Base64:]\n",
    "    draw_decoded = base64.b64decode(draw)\n",
    "    image = np.asarray(bytearray(draw_decoded), dtype=\"uint8\")\n",
    "    \n",
    "    mode = request.form.get(\"mode\",\"digit\")\n",
    "    if mode == \"digit\":\n",
    "        image = cv2.imdecode(image, cv2.IMREAD_GRAYSCALE)\n",
    "        image = cv2.resize(image, dsize=(28,28), interpolation=cv2.INTER_AREA)\n",
    "        image = image.reshape(1,28,28,1)\n",
    "        \n",
    "        p = model.predict(image)\n",
    "        p = np.argmax(p)\n",
    "        \n",
    "    else:\n",
    "        image = cv2.imdecode(image, cv2.IMREAD_GRAYSCALE)\n",
    "        image = cv2.resize(image, dsize=(32,32), interpolation=cv2.INTER_AREA)\n",
    "        image = (255-image)/255\n",
    "        image = image.reshape(1,32,32,3)\n",
    "        p = modelH.predict(image)\n",
    "        p = label[np.argmax(p)]\n",
    "\n",
    "    return f\"result:{p} <a href=javascript:history.back()>뒤로</a>\"\n",
    "\n",
    "if __name__ == '__main__':\n",
    "\n",
    "    app.run(host='0.0.0.0', debug=True, port=8000)"
   ]
  },
  {
   "cell_type": "code",
   "execution_count": null,
   "metadata": {},
   "outputs": [],
   "source": []
  }
 ],
 "metadata": {
  "kernelspec": {
   "display_name": "Python 3",
   "language": "python",
   "name": "python3"
  },
  "language_info": {
   "codemirror_mode": {
    "name": "ipython",
    "version": 3
   },
   "file_extension": ".py",
   "mimetype": "text/x-python",
   "name": "python",
   "nbconvert_exporter": "python",
   "pygments_lexer": "ipython3",
   "version": "3.7.6"
  },
  "toc": {
   "base_numbering": 1,
   "nav_menu": {},
   "number_sections": false,
   "sideBar": true,
   "skip_h1_title": false,
   "title_cell": "Table of Contents",
   "title_sidebar": "Contents",
   "toc_cell": false,
   "toc_position": {},
   "toc_section_display": true,
   "toc_window_display": false
  }
 },
 "nbformat": 4,
 "nbformat_minor": 4
}
