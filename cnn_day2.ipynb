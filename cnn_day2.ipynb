{
 "cells": [
  {
   "cell_type": "code",
   "execution_count": 38,
   "metadata": {},
   "outputs": [],
   "source": [
    "from sklearn import datasets\n",
    "import numpy.linalg as lin\n",
    "from sklearn.model_selection import train_test_split\n",
    "import numpy as np\n",
    "import matplotlib.pyplot as plt\n",
    "from keras.datasets import mnist, fashion_mnist\n",
    "from keras import models\n",
    "from keras.utils import to_categorical\n",
    "from keras.models import Sequential\n",
    "from keras import optimizers\n",
    "from keras.layers import Dense, Activation, Flatten, Conv2D, MaxPooling2D, BatchNormalization, Dropout\n",
    "from keras.models import load_model\n",
    "import cv2\n",
    "import io"
   ]
  },
  {
   "cell_type": "code",
   "execution_count": 15,
   "metadata": {},
   "outputs": [
    {
     "name": "stdout",
     "output_type": "stream",
     "text": [
      "unit  20\n",
      "hello\n",
      "20 [1, 2, 3, 4, 5]\n",
      "20 [3, 3, 4]\n",
      "unit  50\n",
      "hello\n",
      "unit  50\n",
      "hello\n"
     ]
    }
   ],
   "source": [
    "class MyLayer :\n",
    "    def __init__(self, unit ) :\n",
    "        self.unit = unit\n",
    "        print('unit ', unit)\n",
    "        print(\"hello\")\n",
    "        \n",
    "    def test(self, v) :\n",
    "        print(v)                   \n",
    "        \n",
    "    def __call__(self, v) :\n",
    "        print(self.unit, v)        \n",
    "        return self\n",
    "        \n",
    "        \n",
    "#A = MyLayer()\n",
    "#A.test(10)\n",
    "#A(20)\n",
    "\n",
    "#A = MyLayer()(20)\n",
    "# A = MyLayer()\n",
    "# A(20)\n",
    "\n",
    "#A = MyLayer(20)([1,2,3,4,5])\n",
    "A = MyLayer(20)\n",
    "A([1,2,3,4,5])\n",
    "A([3,3,4])\n",
    "\n",
    "B = MyLayer(50)\n",
    "C = MyLayer(50)\n"
   ]
  },
  {
   "cell_type": "code",
   "execution_count": 41,
   "metadata": {},
   "outputs": [
    {
     "name": "stdout",
     "output_type": "stream",
     "text": [
      "[[0.30991736 0.3677686  0.41735536 ... 0.15289256 0.16115703 0.1570248 ]\n",
      " [0.45454547 0.47107437 0.5123967  ... 0.15289256 0.15289256 0.15289256]\n",
      " [0.3181818  0.40082645 0.49173555 ... 0.14049587 0.14876033 0.15289256]\n",
      " ...\n",
      " [0.5        0.53305787 0.607438   ... 0.17768595 0.14876033 0.19008264]\n",
      " [0.21487603 0.21900827 0.21900827 ... 0.57438016 0.59090906 0.60330576]\n",
      " [0.5165289  0.46280992 0.28099173 ... 0.35950413 0.3553719  0.38429752]]\n",
      "[ 0  0  0  0  0  0  0  0  0  0  1  1  1  1  1  1  1  1  1  1  2  2  2  2\n",
      "  2  2  2  2  2  2  3  3  3  3  3  3  3  3  3  3  4  4  4  4  4  4  4  4\n",
      "  4  4  5  5  5  5  5  5  5  5  5  5  6  6  6  6  6  6  6  6  6  6  7  7\n",
      "  7  7  7  7  7  7  7  7  8  8  8  8  8  8  8  8  8  8  9  9  9  9  9  9\n",
      "  9  9  9  9 10 10 10 10 10 10 10 10 10 10 11 11 11 11 11 11 11 11 11 11\n",
      " 12 12 12 12 12 12 12 12 12 12 13 13 13 13 13 13 13 13 13 13 14 14 14 14\n",
      " 14 14 14 14 14 14 15 15 15 15 15 15 15 15 15 15 16 16 16 16 16 16 16 16\n",
      " 16 16 17 17 17 17 17 17 17 17 17 17 18 18 18 18 18 18 18 18 18 18 19 19\n",
      " 19 19 19 19 19 19 19 19 20 20 20 20 20 20 20 20 20 20 21 21 21 21 21 21\n",
      " 21 21 21 21 22 22 22 22 22 22 22 22 22 22 23 23 23 23 23 23 23 23 23 23\n",
      " 24 24 24 24 24 24 24 24 24 24 25 25 25 25 25 25 25 25 25 25 26 26 26 26\n",
      " 26 26 26 26 26 26 27 27 27 27 27 27 27 27 27 27 28 28 28 28 28 28 28 28\n",
      " 28 28 29 29 29 29 29 29 29 29 29 29 30 30 30 30 30 30 30 30 30 30 31 31\n",
      " 31 31 31 31 31 31 31 31 32 32 32 32 32 32 32 32 32 32 33 33 33 33 33 33\n",
      " 33 33 33 33 34 34 34 34 34 34 34 34 34 34 35 35 35 35 35 35 35 35 35 35\n",
      " 36 36 36 36 36 36 36 36 36 36 37 37 37 37 37 37 37 37 37 37 38 38 38 38\n",
      " 38 38 38 38 38 38 39 39 39 39 39 39 39 39 39 39]\n",
      "(400,)\n"
     ]
    }
   ],
   "source": [
    "from sklearn.datasets import fetch_olivetti_faces\n",
    "import cv2\n",
    "\n",
    "orl = fetch_olivetti_faces()\n",
    "data = orl.data\n",
    "target = orl.target\n",
    "print(data)\n",
    "print(target)\n",
    "print(target.shape)"
   ]
  },
  {
   "cell_type": "code",
   "execution_count": 3,
   "metadata": {},
   "outputs": [
    {
     "data": {
      "text/plain": [
       "<matplotlib.image.AxesImage at 0x20aef426d08>"
      ]
     },
     "execution_count": 3,
     "metadata": {},
     "output_type": "execute_result"
    },
    {
     "data": {
      "image/png": "[encoded data removed]",
      "text/plain": [
       "<Figure size 432x288 with 1 Axes>"
      ]
     },
     "metadata": {
      "needs_background": "light"
     },
     "output_type": "display_data"
    }
   ],
   "source": [
    "plt.imshow(data[0,:].reshape(64,64), cmap='gray')"
   ]
  },
  {
   "cell_type": "code",
   "execution_count": 42,
   "metadata": {},
   "outputs": [],
   "source": [
    "data = np.zeros((400, 28*28), dtype = 'uint8')\n",
    "\n",
    "for i, d in enumerate(orl.data):\n",
    "    image = cv2.resize(d.reshape(64,64),(28,28))\n",
    "    data[i,:] = image.flatten()*255"
   ]
  },
  {
   "cell_type": "code",
   "execution_count": 5,
   "metadata": {},
   "outputs": [
    {
     "name": "stdout",
     "output_type": "stream",
     "text": [
      "(400, 784)\n"
     ]
    }
   ],
   "source": [
    "print(data.shape)"
   ]
  },
  {
   "cell_type": "code",
   "execution_count": 6,
   "metadata": {},
   "outputs": [
    {
     "name": "stdout",
     "output_type": "stream",
     "text": [
      "(320, 784)\n",
      "(80, 784)\n"
     ]
    }
   ],
   "source": [
    "X_train, X_val, y_train, y_val = train_test_split(data,target,test_size=0.2)\n",
    "\n",
    "print(X_train.shape)\n",
    "print(X_val.shape)"
   ]
  },
  {
   "cell_type": "code",
   "execution_count": 7,
   "metadata": {},
   "outputs": [],
   "source": [
    "X_train = X_train.reshape(-1, 28,28,1)\n",
    "X_val = X_val.reshape(-1,28,28,1)\n",
    "X_train = X_train/255\n",
    "X_val = X_val/255\n",
    "\n",
    "y_train_e = to_categorical(y_train,40)\n",
    "y_val_e = to_categorical(y_val,40)"
   ]
  },
  {
   "cell_type": "code",
   "execution_count": 8,
   "metadata": {},
   "outputs": [
    {
     "name": "stdout",
     "output_type": "stream",
     "text": [
      "(320, 28, 28, 1)\n",
      "(320, 40)\n"
     ]
    }
   ],
   "source": [
    "print(X_train.shape)\n",
    "print(y_train_e.shape)"
   ]
  },
  {
   "cell_type": "code",
   "execution_count": 9,
   "metadata": {},
   "outputs": [],
   "source": [
    "model = Sequential()\n",
    "\n",
    "input_shape=(28,28,1)\n",
    "\n",
    "model.add(Conv2D(16, input_shape=input_shape, kernel_size= (3,3), activation='relu')) \n",
    "model.add(MaxPooling2D(pool_size=(2,2)))\n",
    "\n",
    "model.add(Conv2D(32, kernel_size= (3,3), activation='relu')) \n",
    "model.add(MaxPooling2D(pool_size=(2,2)))\n",
    "\n",
    "\n",
    "model.add(Flatten())\n",
    "model.add(Dense(128, activation = 'relu')) \n",
    "model.add(Dense(40, activation = 'softmax')) \n",
    "\n",
    "\n",
    "model.compile(loss = 'categorical_crossentropy', optimizer ='adam', \n",
    "              metrics = ['accuracy']) "
   ]
  },
  {
   "cell_type": "code",
   "execution_count": 10,
   "metadata": {},
   "outputs": [
    {
     "name": "stdout",
     "output_type": "stream",
     "text": [
      "Model: \"sequential\"\n",
      "_________________________________________________________________\n",
      "Layer (type)                 Output Shape              Param #   \n",
      "=================================================================\n",
      "conv2d (Conv2D)              (None, 26, 26, 16)        160       \n",
      "_________________________________________________________________\n",
      "max_pooling2d (MaxPooling2D) (None, 13, 13, 16)        0         \n",
      "_________________________________________________________________\n",
      "conv2d_1 (Conv2D)            (None, 11, 11, 32)        4640      \n",
      "_________________________________________________________________\n",
      "max_pooling2d_1 (MaxPooling2 (None, 5, 5, 32)          0         \n",
      "_________________________________________________________________\n",
      "flatten (Flatten)            (None, 800)               0         \n",
      "_________________________________________________________________\n",
      "dense (Dense)                (None, 128)               102528    \n",
      "_________________________________________________________________\n",
      "dense_1 (Dense)              (None, 40)                5160      \n",
      "=================================================================\n",
      "Total params: 112,488\n",
      "Trainable params: 112,488\n",
      "Non-trainable params: 0\n",
      "_________________________________________________________________\n"
     ]
    }
   ],
   "source": [
    "model.summary()"
   ]
  },
  {
   "cell_type": "code",
   "execution_count": 11,
   "metadata": {
    "scrolled": true
   },
   "outputs": [
    {
     "name": "stdout",
     "output_type": "stream",
     "text": [
      "Epoch 1/40\n",
      "4/4 [==============================] - 0s 20ms/step - loss: 3.6971 - accuracy: 0.0188\n",
      "Epoch 2/40\n",
      "4/4 [==============================] - 0s 19ms/step - loss: 3.6755 - accuracy: 0.0281\n",
      "Epoch 3/40\n",
      "4/4 [==============================] - 0s 20ms/step - loss: 3.6676 - accuracy: 0.0312\n",
      "Epoch 4/40\n",
      "4/4 [==============================] - 0s 20ms/step - loss: 3.6588 - accuracy: 0.0312\n",
      "Epoch 5/40\n",
      "4/4 [==============================] - 0s 20ms/step - loss: 3.6519 - accuracy: 0.0406\n",
      "Epoch 6/40\n",
      "4/4 [==============================] - 0s 20ms/step - loss: 3.6426 - accuracy: 0.0562\n",
      "Epoch 7/40\n",
      "4/4 [==============================] - 0s 19ms/step - loss: 3.6302 - accuracy: 0.0594\n",
      "Epoch 8/40\n",
      "4/4 [==============================] - 0s 19ms/step - loss: 3.6185 - accuracy: 0.0437\n",
      "Epoch 9/40\n",
      "4/4 [==============================] - 0s 20ms/step - loss: 3.6056 - accuracy: 0.0312\n",
      "Epoch 10/40\n",
      "4/4 [==============================] - 0s 20ms/step - loss: 3.5888 - accuracy: 0.0562\n",
      "Epoch 11/40\n",
      "4/4 [==============================] - 0s 19ms/step - loss: 3.5667 - accuracy: 0.0594\n",
      "Epoch 12/40\n",
      "4/4 [==============================] - 0s 19ms/step - loss: 3.5393 - accuracy: 0.0906\n",
      "Epoch 13/40\n",
      "4/4 [==============================] - 0s 19ms/step - loss: 3.5073 - accuracy: 0.1094\n",
      "Epoch 14/40\n",
      "4/4 [==============================] - 0s 20ms/step - loss: 3.4658 - accuracy: 0.1656\n",
      "Epoch 15/40\n",
      "4/4 [==============================] - 0s 19ms/step - loss: 3.4154 - accuracy: 0.2375\n",
      "Epoch 16/40\n",
      "4/4 [==============================] - 0s 19ms/step - loss: 3.3549 - accuracy: 0.3938\n",
      "Epoch 17/40\n",
      "4/4 [==============================] - 0s 20ms/step - loss: 3.2752 - accuracy: 0.3125\n",
      "Epoch 18/40\n",
      "4/4 [==============================] - 0s 19ms/step - loss: 3.1883 - accuracy: 0.2750\n",
      "Epoch 19/40\n",
      "4/4 [==============================] - 0s 20ms/step - loss: 3.0886 - accuracy: 0.2313\n",
      "Epoch 20/40\n",
      "4/4 [==============================] - 0s 19ms/step - loss: 2.9510 - accuracy: 0.4406\n",
      "Epoch 21/40\n",
      "4/4 [==============================] - 0s 20ms/step - loss: 2.8019 - accuracy: 0.5594\n",
      "Epoch 22/40\n",
      "4/4 [==============================] - 0s 19ms/step - loss: 2.6556 - accuracy: 0.4656\n",
      "Epoch 23/40\n",
      "4/4 [==============================] - 0s 20ms/step - loss: 2.4855 - accuracy: 0.5562\n",
      "Epoch 24/40\n",
      "4/4 [==============================] - 0s 20ms/step - loss: 2.2816 - accuracy: 0.6938\n",
      "Epoch 25/40\n",
      "4/4 [==============================] - 0s 19ms/step - loss: 2.1227 - accuracy: 0.5875\n",
      "Epoch 26/40\n",
      "4/4 [==============================] - 0s 19ms/step - loss: 1.9574 - accuracy: 0.5906\n",
      "Epoch 27/40\n",
      "4/4 [==============================] - 0s 20ms/step - loss: 1.7792 - accuracy: 0.6469\n",
      "Epoch 28/40\n",
      "4/4 [==============================] - 0s 20ms/step - loss: 1.6525 - accuracy: 0.6313\n",
      "Epoch 29/40\n",
      "4/4 [==============================] - 0s 20ms/step - loss: 1.4351 - accuracy: 0.7594\n",
      "Epoch 30/40\n",
      "4/4 [==============================] - 0s 20ms/step - loss: 1.3373 - accuracy: 0.7812\n",
      "Epoch 31/40\n",
      "4/4 [==============================] - 0s 19ms/step - loss: 1.1928 - accuracy: 0.7937\n",
      "Epoch 32/40\n",
      "4/4 [==============================] - 0s 19ms/step - loss: 1.0765 - accuracy: 0.8438\n",
      "Epoch 33/40\n",
      "4/4 [==============================] - 0s 20ms/step - loss: 0.9801 - accuracy: 0.8531\n",
      "Epoch 34/40\n",
      "4/4 [==============================] - 0s 20ms/step - loss: 0.9080 - accuracy: 0.8188\n",
      "Epoch 35/40\n",
      "4/4 [==============================] - 0s 19ms/step - loss: 0.8039 - accuracy: 0.8750\n",
      "Epoch 36/40\n",
      "4/4 [==============================] - 0s 20ms/step - loss: 0.7589 - accuracy: 0.8687\n",
      "Epoch 37/40\n",
      "4/4 [==============================] - 0s 20ms/step - loss: 0.6925 - accuracy: 0.8875\n",
      "Epoch 38/40\n",
      "4/4 [==============================] - 0s 20ms/step - loss: 0.6219 - accuracy: 0.8875\n",
      "Epoch 39/40\n",
      "4/4 [==============================] - 0s 20ms/step - loss: 0.5932 - accuracy: 0.9000\n",
      "Epoch 40/40\n",
      "4/4 [==============================] - 0s 19ms/step - loss: 0.5531 - accuracy: 0.9062\n"
     ]
    }
   ],
   "source": [
    "hist = model.fit(x = X_train, y = y_train_e,\n",
    "                 epochs = 40, \n",
    "                 verbose = 1,\n",
    "                 batch_size=100)"
   ]
  },
  {
   "cell_type": "code",
   "execution_count": 12,
   "metadata": {},
   "outputs": [
    {
     "name": "stdout",
     "output_type": "stream",
     "text": [
      "Test loss: 0.9422639012336731\n",
      "Test accuracy: 0.7875000238418579\n"
     ]
    }
   ],
   "source": [
    "score = model.evaluate(X_val, y_val_e, verbose = 0)\n",
    "print('Test loss:', score[0])\n",
    "print('Test accuracy:', score[1])"
   ]
  },
  {
   "cell_type": "code",
   "execution_count": 13,
   "metadata": {},
   "outputs": [
    {
     "name": "stdout",
     "output_type": "stream",
     "text": [
      "conv2d\n",
      "max_pooling2d\n",
      "conv2d_1\n",
      "max_pooling2d_1\n",
      "flatten\n",
      "dense\n",
      "dense_1\n"
     ]
    }
   ],
   "source": [
    "for layer in model.layers:\n",
    "    print(layer.name)"
   ]
  },
  {
   "cell_type": "code",
   "execution_count": 14,
   "metadata": {},
   "outputs": [
    {
     "name": "stdout",
     "output_type": "stream",
     "text": [
      "2\n",
      "(3, 3, 1, 16)\n",
      "(16,)\n"
     ]
    }
   ],
   "source": [
    "W = model.layers[0].get_weights()\n",
    "print(len(W))\n",
    "print(W[0].shape)\n",
    "print(W[1].shape)"
   ]
  },
  {
   "cell_type": "code",
   "execution_count": 16,
   "metadata": {},
   "outputs": [
    {
     "name": "stdout",
     "output_type": "stream",
     "text": [
      "[[-0.02742709  0.29020914  0.18532854]\n",
      " [ 0.25317296  0.12848602  0.02775916]\n",
      " [ 0.21838082  0.25158408  0.18133457]]\n",
      "[[ 0.07691827  0.13829947  0.33445406]\n",
      " [-0.12244373  0.16457458  0.22485931]\n",
      " [-0.24580052  0.09526828  0.13404293]]\n"
     ]
    }
   ],
   "source": [
    "filters = W[0]\n",
    "\n",
    "f1 = filters[:,:,0,0]\n",
    "print(f1)\n",
    "\n",
    "f2 = filters[:,:,0,1]\n",
    "print(f2)\n"
   ]
  },
  {
   "cell_type": "code",
   "execution_count": 17,
   "metadata": {},
   "outputs": [
    {
     "name": "stdout",
     "output_type": "stream",
     "text": [
      "(3, 3, 1, 16)\n"
     ]
    }
   ],
   "source": [
    "W2 = model.layers[2].get_weights()\n",
    "filters = W[0]\n",
    "print(filters.shape)"
   ]
  },
  {
   "cell_type": "code",
   "execution_count": 18,
   "metadata": {},
   "outputs": [
    {
     "name": "stdout",
     "output_type": "stream",
     "text": [
      "[[-0.02742709  0.29020914  0.18532854]\n",
      " [ 0.25317296  0.12848602  0.02775916]\n",
      " [ 0.21838082  0.25158408  0.18133457]]\n"
     ]
    }
   ],
   "source": [
    "f1 = filters[:,:,0,0]\n",
    "print(f1)"
   ]
  },
  {
   "cell_type": "code",
   "execution_count": 19,
   "metadata": {},
   "outputs": [
    {
     "data": {
      "text/plain": [
       "<matplotlib.image.AxesImage at 0x20af8c38188>"
      ]
     },
     "execution_count": 19,
     "metadata": {},
     "output_type": "execute_result"
    },
    {
     "data": {
      "image/png": "[encoded data removed]",
      "text/plain": [
       "<Figure size 432x288 with 1 Axes>"
      ]
     },
     "metadata": {
      "needs_background": "light"
     },
     "output_type": "display_data"
    }
   ],
   "source": [
    "plt.imshow(f1, cmap='gray')"
   ]
  },
  {
   "cell_type": "code",
   "execution_count": null,
   "metadata": {},
   "outputs": [],
   "source": []
  },
  {
   "cell_type": "code",
   "execution_count": 29,
   "metadata": {},
   "outputs": [
    {
     "name": "stdout",
     "output_type": "stream",
     "text": [
      "Model: \"sequential_1\"\n",
      "_________________________________________________________________\n",
      "Layer (type)                 Output Shape              Param #   \n",
      "=================================================================\n",
      "conv1_1 (Conv2D)             (None, 28, 28, 16)        160       \n",
      "_________________________________________________________________\n",
      "max_pooling2d_2 (MaxPooling2 (None, 14, 14, 16)        0         \n",
      "_________________________________________________________________\n",
      "conv2d_2 (Conv2D)            (None, 14, 14, 32)        4640      \n",
      "_________________________________________________________________\n",
      "max_pooling2d_3 (MaxPooling2 (None, 7, 7, 32)          0         \n",
      "_________________________________________________________________\n",
      "flatten_1 (Flatten)          (None, 1568)              0         \n",
      "_________________________________________________________________\n",
      "dense_2 (Dense)              (None, 256)               401664    \n",
      "_________________________________________________________________\n",
      "dense_3 (Dense)              (None, 40)                10280     \n",
      "=================================================================\n",
      "Total params: 416,744\n",
      "Trainable params: 416,744\n",
      "Non-trainable params: 0\n",
      "_________________________________________________________________\n"
     ]
    }
   ],
   "source": [
    "input_shape = (28, 28, 1)\n",
    "model = Sequential()\n",
    "model.add(Conv2D(16, kernel_size=(3, 3), padding = 'same',\n",
    "                     activation='relu',input_shape=input_shape, name=\"conv1_1\"))\n",
    "\n",
    "model.add(MaxPooling2D(pool_size=(2, 2)))\n",
    "\n",
    "model.add(Conv2D(32, kernel_size=(3, 3), padding = 'same',\n",
    "                     activation='relu'))\n",
    "model.add(MaxPooling2D(pool_size=(2, 2)))\n",
    "\n",
    "model.add(Flatten())\n",
    "\n",
    "model.add(Dense(256, activation='relu')) \n",
    "model.add(Dense(40, activation='softmax'))\n",
    "model.summary()\n",
    "model.compile(loss='categorical_crossentropy',  optimizer='adam', metrics=['accuracy'])"
   ]
  },
  {
   "cell_type": "code",
   "execution_count": 30,
   "metadata": {
    "scrolled": true
   },
   "outputs": [
    {
     "name": "stdout",
     "output_type": "stream",
     "text": [
      "Epoch 1/40\n",
      "16/16 - 0s - loss: 3.7315 - accuracy: 0.0125 - val_loss: 3.7051 - val_accuracy: 0.0125\n",
      "Epoch 2/40\n",
      "16/16 - 0s - loss: 3.6721 - accuracy: 0.0750 - val_loss: 3.6962 - val_accuracy: 0.0375\n",
      "Epoch 3/40\n",
      "16/16 - 0s - loss: 3.6429 - accuracy: 0.0781 - val_loss: 3.6966 - val_accuracy: 0.0125\n",
      "Epoch 4/40\n",
      "16/16 - 0s - loss: 3.5587 - accuracy: 0.1406 - val_loss: 3.6297 - val_accuracy: 0.0375\n",
      "Epoch 5/40\n",
      "16/16 - 0s - loss: 3.4271 - accuracy: 0.1594 - val_loss: 3.4135 - val_accuracy: 0.1250\n",
      "Epoch 6/40\n",
      "16/16 - 0s - loss: 3.1080 - accuracy: 0.3219 - val_loss: 3.0122 - val_accuracy: 0.2125\n",
      "Epoch 7/40\n",
      "16/16 - 0s - loss: 2.5909 - accuracy: 0.4688 - val_loss: 2.3991 - val_accuracy: 0.5000\n",
      "Epoch 8/40\n",
      "16/16 - 0s - loss: 1.9339 - accuracy: 0.6187 - val_loss: 1.9230 - val_accuracy: 0.5625\n",
      "Epoch 9/40\n",
      "16/16 - 0s - loss: 1.3756 - accuracy: 0.7125 - val_loss: 1.3209 - val_accuracy: 0.7625\n",
      "Epoch 10/40\n",
      "16/16 - 0s - loss: 0.7939 - accuracy: 0.8656 - val_loss: 0.8767 - val_accuracy: 0.8125\n",
      "Epoch 11/40\n",
      "16/16 - 0s - loss: 0.5110 - accuracy: 0.9219 - val_loss: 0.6974 - val_accuracy: 0.8875\n",
      "Epoch 12/40\n",
      "16/16 - 0s - loss: 0.3816 - accuracy: 0.9312 - val_loss: 0.6617 - val_accuracy: 0.8375\n",
      "Epoch 13/40\n",
      "16/16 - 0s - loss: 0.2844 - accuracy: 0.9594 - val_loss: 0.4258 - val_accuracy: 0.9125\n",
      "Epoch 14/40\n",
      "16/16 - 0s - loss: 0.2039 - accuracy: 0.9750 - val_loss: 0.5517 - val_accuracy: 0.9000\n",
      "Epoch 15/40\n",
      "16/16 - 0s - loss: 0.1677 - accuracy: 0.9688 - val_loss: 0.4500 - val_accuracy: 0.9125\n",
      "Epoch 16/40\n",
      "16/16 - 0s - loss: 0.0974 - accuracy: 0.9875 - val_loss: 0.3570 - val_accuracy: 0.9250\n",
      "Epoch 17/40\n",
      "16/16 - 0s - loss: 0.0771 - accuracy: 0.9937 - val_loss: 0.2576 - val_accuracy: 0.9375\n",
      "Epoch 18/40\n",
      "16/16 - 0s - loss: 0.0455 - accuracy: 0.9969 - val_loss: 0.3362 - val_accuracy: 0.9500\n",
      "Epoch 19/40\n",
      "16/16 - 0s - loss: 0.0282 - accuracy: 1.0000 - val_loss: 0.2816 - val_accuracy: 0.9375\n",
      "Epoch 20/40\n",
      "16/16 - 0s - loss: 0.0227 - accuracy: 1.0000 - val_loss: 0.2471 - val_accuracy: 0.9500\n",
      "Epoch 21/40\n",
      "16/16 - 0s - loss: 0.0193 - accuracy: 1.0000 - val_loss: 0.2477 - val_accuracy: 0.9500\n",
      "Epoch 22/40\n",
      "16/16 - 0s - loss: 0.0185 - accuracy: 1.0000 - val_loss: 0.2994 - val_accuracy: 0.9500\n",
      "Epoch 23/40\n",
      "16/16 - 0s - loss: 0.0145 - accuracy: 1.0000 - val_loss: 0.2357 - val_accuracy: 0.9500\n",
      "Epoch 24/40\n",
      "16/16 - 0s - loss: 0.0126 - accuracy: 1.0000 - val_loss: 0.2793 - val_accuracy: 0.9500\n",
      "Epoch 25/40\n",
      "16/16 - 0s - loss: 0.0115 - accuracy: 1.0000 - val_loss: 0.2515 - val_accuracy: 0.9500\n",
      "Epoch 26/40\n",
      "16/16 - 0s - loss: 0.0098 - accuracy: 1.0000 - val_loss: 0.2612 - val_accuracy: 0.9500\n",
      "Epoch 27/40\n",
      "16/16 - 0s - loss: 0.0087 - accuracy: 1.0000 - val_loss: 0.2652 - val_accuracy: 0.9500\n",
      "Epoch 28/40\n",
      "16/16 - 0s - loss: 0.0082 - accuracy: 1.0000 - val_loss: 0.2583 - val_accuracy: 0.9500\n",
      "Epoch 29/40\n",
      "16/16 - 0s - loss: 0.0073 - accuracy: 1.0000 - val_loss: 0.2448 - val_accuracy: 0.9500\n",
      "Epoch 30/40\n",
      "16/16 - 0s - loss: 0.0067 - accuracy: 1.0000 - val_loss: 0.2466 - val_accuracy: 0.9500\n",
      "Epoch 31/40\n",
      "16/16 - 0s - loss: 0.0062 - accuracy: 1.0000 - val_loss: 0.2656 - val_accuracy: 0.9500\n",
      "Epoch 32/40\n",
      "16/16 - 0s - loss: 0.0057 - accuracy: 1.0000 - val_loss: 0.2593 - val_accuracy: 0.9500\n",
      "Epoch 33/40\n",
      "16/16 - 0s - loss: 0.0056 - accuracy: 1.0000 - val_loss: 0.2472 - val_accuracy: 0.9500\n",
      "Epoch 34/40\n",
      "16/16 - 0s - loss: 0.0055 - accuracy: 1.0000 - val_loss: 0.2657 - val_accuracy: 0.9500\n",
      "Epoch 35/40\n",
      "16/16 - 0s - loss: 0.0051 - accuracy: 1.0000 - val_loss: 0.2572 - val_accuracy: 0.9500\n",
      "Epoch 36/40\n",
      "16/16 - 0s - loss: 0.0044 - accuracy: 1.0000 - val_loss: 0.2601 - val_accuracy: 0.9500\n",
      "Epoch 37/40\n",
      "16/16 - 0s - loss: 0.0042 - accuracy: 1.0000 - val_loss: 0.2583 - val_accuracy: 0.9500\n",
      "Epoch 38/40\n",
      "16/16 - 0s - loss: 0.0039 - accuracy: 1.0000 - val_loss: 0.2588 - val_accuracy: 0.9500\n",
      "Epoch 39/40\n",
      "16/16 - 0s - loss: 0.0037 - accuracy: 1.0000 - val_loss: 0.2568 - val_accuracy: 0.9500\n",
      "Epoch 40/40\n",
      "16/16 - 0s - loss: 0.0035 - accuracy: 1.0000 - val_loss: 0.2582 - val_accuracy: 0.9500\n"
     ]
    }
   ],
   "source": [
    "history = model.fit(X_train, y_train_e ,\n",
    "                        batch_size=20,\n",
    "                        epochs=40,\n",
    "                        verbose=2,\n",
    "                        validation_data=(X_val, y_val_e ))"
   ]
  },
  {
   "cell_type": "code",
   "execution_count": 31,
   "metadata": {},
   "outputs": [
    {
     "name": "stdout",
     "output_type": "stream",
     "text": [
      "(1, 28, 28, 1)\n"
     ]
    }
   ],
   "source": [
    "from keras.models import Model\n",
    "\n",
    "model2 = Model(inputs=model.inputs, outputs = model.layers[0].output)\n",
    "\n",
    "I = X_train[0:1,:,:,:]\n",
    "print(I.shape)"
   ]
  },
  {
   "cell_type": "code",
   "execution_count": 32,
   "metadata": {},
   "outputs": [
    {
     "name": "stdout",
     "output_type": "stream",
     "text": [
      "(1, 28, 28, 16)\n"
     ]
    }
   ],
   "source": [
    "feature_maps = model2.predict(I)\n",
    "print(feature_maps.shape)"
   ]
  },
  {
   "cell_type": "code",
   "execution_count": 33,
   "metadata": {},
   "outputs": [
    {
     "data": {
      "text/plain": [
       "<matplotlib.image.AxesImage at 0x20a80010ac8>"
      ]
     },
     "execution_count": 33,
     "metadata": {},
     "output_type": "execute_result"
    },
    {
     "data": {
      "image/png": "[encoded data removed]",
      "text/plain": [
       "<Figure size 432x288 with 2 Axes>"
      ]
     },
     "metadata": {
      "needs_background": "light"
     },
     "output_type": "display_data"
    }
   ],
   "source": [
    "img = feature_maps[0,:,:,1]\n",
    "\n",
    "plt.subplot(121)\n",
    "plt.imshow(I[0,:,:,0], cmap='gray')\n",
    "plt.subplot(122)\n",
    "plt.imshow(img, cmap='gray')"
   ]
  },
  {
   "cell_type": "code",
   "execution_count": 34,
   "metadata": {},
   "outputs": [
    {
     "data": {
      "image/png": "[encoded data removed]",
      "text/plain": [
       "<Figure size 432x288 with 16 Axes>"
      ]
     },
     "metadata": {},
     "output_type": "display_data"
    }
   ],
   "source": [
    "for ix in range(16):\n",
    "    ax = plt.subplot(4,4,ix+1)\n",
    "    fm = feature_maps[0,:,:,ix]\n",
    "    plt.imshow(fm, cmap='gray')\n",
    "    ax.set_xticks([])\n",
    "    ax.set_yticks([])"
   ]
  },
  {
   "cell_type": "code",
   "execution_count": 35,
   "metadata": {},
   "outputs": [
    {
     "name": "stdout",
     "output_type": "stream",
     "text": [
      "(1, 14, 14, 32)\n"
     ]
    }
   ],
   "source": [
    "model3 = Model(inputs=model.inputs, outputs = model.layers[2].output)\n",
    "\n",
    "I = X_train[187:188,:,:,:]\n",
    "feature_maps = model3.predict(I)\n",
    "print(feature_maps.shape)"
   ]
  },
  {
   "cell_type": "code",
   "execution_count": 37,
   "metadata": {},
   "outputs": [
    {
     "data": {
      "image/png": "[encoded data removed]",
      "text/plain": [
       "<Figure size 432x288 with 32 Axes>"
      ]
     },
     "metadata": {},
     "output_type": "display_data"
    }
   ],
   "source": [
    "for ix in range(32):\n",
    "    ax = plt.subplot(4,8,ix+1)\n",
    "    fm = feature_maps[0,:,:,ix]\n",
    "    plt.imshow(fm, cmap='gray')\n",
    "    ax.set_xticks([])\n",
    "    ax.set_yticks([])"
   ]
  },
  {
   "cell_type": "code",
   "execution_count": 49,
   "metadata": {},
   "outputs": [],
   "source": [
    "data = np.zeros((400, 32*32), dtype = 'uint8')\n",
    "\n",
    "for i, d in enumerate(orl.data):\n",
    "    image = cv2.resize(d.reshape(64,64),(32,32))\n",
    "    data[i,:] = image.flatten()*255\n",
    "\n",
    "X_train, X_val, y_train, y_val = train_test_split(data, target, test_size = 0.2)\n",
    "\n",
    "\n",
    "\n",
    "X_train = X_train.reshape(-1, 32, 32, 1)/255.0\n",
    "X_val = X_val.reshape(-1, 32, 32, 1)/255.0\n",
    "y_train_e = to_categorical(y_train, 40)\n",
    "y_val_e = to_categorical(y_val, 40)"
   ]
  },
  {
   "cell_type": "code",
   "execution_count": 50,
   "metadata": {},
   "outputs": [
    {
     "name": "stdout",
     "output_type": "stream",
     "text": [
      "Model: \"sequential_4\"\n",
      "_________________________________________________________________\n",
      "Layer (type)                 Output Shape              Param #   \n",
      "=================================================================\n",
      "conv2d_6 (Conv2D)            (None, 32, 32, 32)        320       \n",
      "_________________________________________________________________\n",
      "batch_normalization_6 (Batch (None, 32, 32, 32)        128       \n",
      "_________________________________________________________________\n",
      "activation_3 (Activation)    (None, 32, 32, 32)        0         \n",
      "_________________________________________________________________\n",
      "max_pooling2d_8 (MaxPooling2 (None, 16, 16, 32)        0         \n",
      "_________________________________________________________________\n",
      "conv2d_7 (Conv2D)            (None, 16, 16, 32)        9248      \n",
      "_________________________________________________________________\n",
      "batch_normalization_7 (Batch (None, 16, 16, 32)        128       \n",
      "_________________________________________________________________\n",
      "activation_4 (Activation)    (None, 16, 16, 32)        0         \n",
      "_________________________________________________________________\n",
      "max_pooling2d_9 (MaxPooling2 (None, 8, 8, 32)          0         \n",
      "_________________________________________________________________\n",
      "flatten_4 (Flatten)          (None, 2048)              0         \n",
      "_________________________________________________________________\n",
      "dense_8 (Dense)              (None, 512)               1049088   \n",
      "_________________________________________________________________\n",
      "batch_normalization_8 (Batch (None, 512)               2048      \n",
      "_________________________________________________________________\n",
      "activation_5 (Activation)    (None, 512)               0         \n",
      "_________________________________________________________________\n",
      "dense_9 (Dense)              (None, 40)                20520     \n",
      "=================================================================\n",
      "Total params: 1,081,480\n",
      "Trainable params: 1,080,328\n",
      "Non-trainable params: 1,152\n",
      "_________________________________________________________________\n"
     ]
    }
   ],
   "source": [
    "input_shape = (32, 32, 1)\n",
    "model = Sequential()\n",
    "model.add(Conv2D(32, kernel_size=(3, 3), padding = 'same',input_shape=input_shape))\n",
    "model.add(BatchNormalization())\n",
    "model.add(Activation('relu'))\n",
    "model.add(MaxPooling2D(pool_size=(2, 2)))\n",
    "\n",
    "\n",
    "model.add(Conv2D(32, kernel_size=(3, 3), padding = 'same'))\n",
    "model.add(BatchNormalization())\n",
    "model.add(Activation('relu'))\n",
    "model.add(MaxPooling2D(pool_size=(2, 2)))\n",
    "\n",
    "model.add(Flatten())\n",
    "\n",
    "model.add(Dense(512)) \n",
    "model.add(BatchNormalization())\n",
    "model.add(Activation('relu'))\n",
    "\n",
    "model.add(Dense(40, activation='softmax'))\n",
    "model.compile(loss='categorical_crossentropy',  optimizer='adam', metrics=['accuracy'])\n",
    "model.summary()"
   ]
  },
  {
   "cell_type": "code",
   "execution_count": 51,
   "metadata": {},
   "outputs": [
    {
     "name": "stdout",
     "output_type": "stream",
     "text": [
      "Epoch 1/50\n",
      "16/16 [==============================] - 1s 34ms/step - loss: 1.9777 - accuracy: 0.5531 - val_loss: 3.6093 - val_accuracy: 0.0500\n",
      "Epoch 2/50\n",
      "16/16 [==============================] - 0s 29ms/step - loss: 0.1306 - accuracy: 0.9937 - val_loss: 3.8990 - val_accuracy: 0.0375\n",
      "Epoch 3/50\n",
      "16/16 [==============================] - 0s 29ms/step - loss: 0.0319 - accuracy: 1.0000 - val_loss: 4.5250 - val_accuracy: 0.0375\n",
      "Epoch 4/50\n",
      "16/16 [==============================] - 1s 31ms/step - loss: 0.0177 - accuracy: 1.0000 - val_loss: 5.1452 - val_accuracy: 0.0375\n",
      "Epoch 5/50\n",
      "16/16 [==============================] - 1s 33ms/step - loss: 0.0107 - accuracy: 1.0000 - val_loss: 5.7545 - val_accuracy: 0.0375\n",
      "Epoch 6/50\n",
      "16/16 [==============================] - 1s 39ms/step - loss: 0.0105 - accuracy: 1.0000 - val_loss: 6.3402 - val_accuracy: 0.0375\n",
      "Epoch 7/50\n",
      "16/16 [==============================] - 1s 36ms/step - loss: 0.0061 - accuracy: 1.0000 - val_loss: 6.8231 - val_accuracy: 0.0375\n",
      "Epoch 8/50\n",
      "16/16 [==============================] - 1s 37ms/step - loss: 0.0050 - accuracy: 1.0000 - val_loss: 7.2288 - val_accuracy: 0.0375\n",
      "Epoch 9/50\n",
      "16/16 [==============================] - 1s 36ms/step - loss: 0.0050 - accuracy: 1.0000 - val_loss: 7.5741 - val_accuracy: 0.0375\n",
      "Epoch 10/50\n",
      "16/16 [==============================] - 1s 38ms/step - loss: 0.0050 - accuracy: 1.0000 - val_loss: 7.8540 - val_accuracy: 0.0375\n",
      "Epoch 11/50\n",
      "16/16 [==============================] - 1s 35ms/step - loss: 0.0039 - accuracy: 1.0000 - val_loss: 8.0956 - val_accuracy: 0.0375\n",
      "Epoch 12/50\n",
      "16/16 [==============================] - 1s 34ms/step - loss: 0.0034 - accuracy: 1.0000 - val_loss: 8.2841 - val_accuracy: 0.0500\n",
      "Epoch 13/50\n",
      "16/16 [==============================] - 1s 35ms/step - loss: 0.0029 - accuracy: 1.0000 - val_loss: 8.4170 - val_accuracy: 0.0500\n",
      "Epoch 14/50\n",
      "16/16 [==============================] - 0s 30ms/step - loss: 0.0033 - accuracy: 1.0000 - val_loss: 8.5140 - val_accuracy: 0.0500\n",
      "Epoch 15/50\n",
      "16/16 [==============================] - 1s 33ms/step - loss: 0.0024 - accuracy: 1.0000 - val_loss: 8.5693 - val_accuracy: 0.0500\n",
      "Epoch 16/50\n",
      "16/16 [==============================] - 1s 32ms/step - loss: 0.0029 - accuracy: 1.0000 - val_loss: 8.6245 - val_accuracy: 0.0500\n",
      "Epoch 17/50\n",
      "16/16 [==============================] - 1s 33ms/step - loss: 0.0022 - accuracy: 1.0000 - val_loss: 8.6043 - val_accuracy: 0.0625\n",
      "Epoch 18/50\n",
      "16/16 [==============================] - 1s 35ms/step - loss: 0.0018 - accuracy: 1.0000 - val_loss: 8.5138 - val_accuracy: 0.0875\n",
      "Epoch 19/50\n",
      "16/16 [==============================] - 1s 36ms/step - loss: 0.0022 - accuracy: 1.0000 - val_loss: 8.3856 - val_accuracy: 0.1000\n",
      "Epoch 20/50\n",
      "16/16 [==============================] - 1s 31ms/step - loss: 0.0015 - accuracy: 1.0000 - val_loss: 8.2182 - val_accuracy: 0.1000\n",
      "Epoch 21/50\n",
      "16/16 [==============================] - 1s 33ms/step - loss: 0.0018 - accuracy: 1.0000 - val_loss: 8.0025 - val_accuracy: 0.1000\n",
      "Epoch 22/50\n",
      "16/16 [==============================] - 0s 30ms/step - loss: 0.0016 - accuracy: 1.0000 - val_loss: 7.7172 - val_accuracy: 0.1000\n",
      "Epoch 23/50\n",
      "16/16 [==============================] - 1s 34ms/step - loss: 0.0015 - accuracy: 1.0000 - val_loss: 7.3963 - val_accuracy: 0.1000\n",
      "Epoch 24/50\n",
      "16/16 [==============================] - 1s 33ms/step - loss: 0.0014 - accuracy: 1.0000 - val_loss: 7.0417 - val_accuracy: 0.1000\n",
      "Epoch 25/50\n",
      "16/16 [==============================] - ETA: 0s - loss: 0.0014 - accuracy: 1.00 - 1s 32ms/step - loss: 0.0014 - accuracy: 1.0000 - val_loss: 6.6248 - val_accuracy: 0.1000\n",
      "Epoch 26/50\n",
      "16/16 [==============================] - 1s 34ms/step - loss: 0.0015 - accuracy: 1.0000 - val_loss: 6.1689 - val_accuracy: 0.1000\n",
      "Epoch 27/50\n",
      "16/16 [==============================] - 0s 31ms/step - loss: 0.0014 - accuracy: 1.0000 - val_loss: 5.6901 - val_accuracy: 0.1000\n",
      "Epoch 28/50\n",
      "16/16 [==============================] - 1s 31ms/step - loss: 0.0011 - accuracy: 1.0000 - val_loss: 5.1849 - val_accuracy: 0.1250\n",
      "Epoch 29/50\n",
      "16/16 [==============================] - 1s 34ms/step - loss: 0.0010 - accuracy: 1.0000 - val_loss: 4.6370 - val_accuracy: 0.1625\n",
      "Epoch 30/50\n",
      "16/16 [==============================] - 1s 36ms/step - loss: 0.0010 - accuracy: 1.0000 - val_loss: 4.0183 - val_accuracy: 0.1875\n",
      "Epoch 31/50\n",
      "16/16 [==============================] - 1s 40ms/step - loss: 0.0013 - accuracy: 1.0000 - val_loss: 3.4033 - val_accuracy: 0.2250\n",
      "Epoch 32/50\n",
      "16/16 [==============================] - 1s 39ms/step - loss: 9.5275e-04 - accuracy: 1.0000 - val_loss: 2.7980 - val_accuracy: 0.2375\n",
      "Epoch 33/50\n",
      "16/16 [==============================] - 1s 33ms/step - loss: 8.7083e-04 - accuracy: 1.0000 - val_loss: 2.2049 - val_accuracy: 0.3375\n",
      "Epoch 34/50\n",
      "16/16 [==============================] - 0s 31ms/step - loss: 8.9834e-04 - accuracy: 1.0000 - val_loss: 1.6566 - val_accuracy: 0.4000\n",
      "Epoch 35/50\n",
      "16/16 [==============================] - 1s 32ms/step - loss: 9.2844e-04 - accuracy: 1.0000 - val_loss: 1.1961 - val_accuracy: 0.6250\n",
      "Epoch 36/50\n",
      "16/16 [==============================] - 0s 31ms/step - loss: 0.0010 - accuracy: 1.0000 - val_loss: 0.8236 - val_accuracy: 0.7250\n",
      "Epoch 37/50\n",
      "16/16 [==============================] - 0s 30ms/step - loss: 9.4322e-04 - accuracy: 1.0000 - val_loss: 0.5470 - val_accuracy: 0.8375\n",
      "Epoch 38/50\n",
      "16/16 [==============================] - 1s 36ms/step - loss: 9.2901e-04 - accuracy: 1.0000 - val_loss: 0.3658 - val_accuracy: 0.9000\n",
      "Epoch 39/50\n",
      "16/16 [==============================] - 1s 37ms/step - loss: 7.1677e-04 - accuracy: 1.0000 - val_loss: 0.2421 - val_accuracy: 0.9500\n",
      "Epoch 40/50\n",
      "16/16 [==============================] - 0s 31ms/step - loss: 8.6085e-04 - accuracy: 1.0000 - val_loss: 0.1625 - val_accuracy: 0.9750\n",
      "Epoch 41/50\n",
      "16/16 [==============================] - 1s 33ms/step - loss: 7.1431e-04 - accuracy: 1.0000 - val_loss: 0.1068 - val_accuracy: 0.9875\n",
      "Epoch 42/50\n",
      "16/16 [==============================] - 1s 35ms/step - loss: 5.6219e-04 - accuracy: 1.0000 - val_loss: 0.0774 - val_accuracy: 0.9875\n",
      "Epoch 43/50\n",
      "16/16 [==============================] - 1s 33ms/step - loss: 6.4197e-04 - accuracy: 1.0000 - val_loss: 0.0593 - val_accuracy: 0.9875\n",
      "Epoch 44/50\n",
      "16/16 [==============================] - 1s 32ms/step - loss: 5.5050e-04 - accuracy: 1.0000 - val_loss: 0.0473 - val_accuracy: 1.0000\n",
      "Epoch 45/50\n",
      "16/16 [==============================] - 1s 34ms/step - loss: 6.2352e-04 - accuracy: 1.0000 - val_loss: 0.0389 - val_accuracy: 1.0000\n",
      "Epoch 46/50\n",
      "16/16 [==============================] - 1s 38ms/step - loss: 5.2283e-04 - accuracy: 1.0000 - val_loss: 0.0342 - val_accuracy: 1.0000\n",
      "Epoch 47/50\n",
      "16/16 [==============================] - 1s 35ms/step - loss: 4.9740e-04 - accuracy: 1.0000 - val_loss: 0.0316 - val_accuracy: 1.0000\n",
      "Epoch 48/50\n",
      "16/16 [==============================] - 1s 39ms/step - loss: 4.3264e-04 - accuracy: 1.0000 - val_loss: 0.0300 - val_accuracy: 1.0000\n",
      "Epoch 49/50\n",
      "16/16 [==============================] - 1s 40ms/step - loss: 5.6935e-04 - accuracy: 1.0000 - val_loss: 0.0288 - val_accuracy: 1.0000\n",
      "Epoch 50/50\n",
      "16/16 [==============================] - 1s 36ms/step - loss: 5.2187e-04 - accuracy: 1.0000 - val_loss: 0.0269 - val_accuracy: 1.0000\n",
      "3/3 [==============================] - 0s 5ms/step - loss: 0.0269 - accuracy: 1.0000\n"
     ]
    },
    {
     "data": {
      "text/plain": [
       "[0.026904577389359474, 1.0]"
      ]
     },
     "execution_count": 51,
     "metadata": {},
     "output_type": "execute_result"
    }
   ],
   "source": [
    "history = model.fit(X_train, y_train_e ,\n",
    "                        batch_size=20,\n",
    "                        epochs=50,\n",
    "                        verbose=1,\n",
    "                        validation_data=(X_val, y_val_e ))\n",
    "model.evaluate(X_val, y_val_e)"
   ]
  },
  {
   "cell_type": "code",
   "execution_count": null,
   "metadata": {},
   "outputs": [],
   "source": []
  },
  {
   "cell_type": "markdown",
   "metadata": {},
   "source": [
    "## fashion mnist"
   ]
  },
  {
   "cell_type": "code",
   "execution_count": 52,
   "metadata": {},
   "outputs": [
    {
     "name": "stdout",
     "output_type": "stream",
     "text": [
      "Downloading data from https://storage.googleapis.com/tensorflow/tf-keras-datasets/train-labels-idx1-ubyte.gz\n",
      "32768/29515 [=================================] - 0s 0us/step\n",
      "Downloading data from https://storage.googleapis.com/tensorflow/tf-keras-datasets/train-images-idx3-ubyte.gz\n",
      "26427392/26421880 [==============================] - 1s 0us/step\n",
      "Downloading data from https://storage.googleapis.com/tensorflow/tf-keras-datasets/t10k-labels-idx1-ubyte.gz\n",
      "8192/5148 [===============================================] - 0s 0us/step\n",
      "Downloading data from https://storage.googleapis.com/tensorflow/tf-keras-datasets/t10k-images-idx3-ubyte.gz\n",
      "4423680/4422102 [==============================] - 0s 0us/step\n",
      "(60000, 28, 28, 1)\n",
      "(10000, 28, 28, 1)\n"
     ]
    }
   ],
   "source": [
    "(X_train, y_train), (X_test, y_test) = fashion_mnist.load_data()\n",
    "X_train = X_train.reshape((60000,28,28,1))\n",
    "X_test = X_test.reshape((10000, 28, 28, 1))\n",
    "y_train_e = to_categorical(y_train)\n",
    "y_test_e = to_categorical(y_test)\n",
    "\n",
    "print(X_train.shape)\n",
    "print(X_test.shape)\n",
    "X_train = X_train / 255\n",
    "X_test = X_test / 255"
   ]
  },
  {
   "cell_type": "code",
   "execution_count": 53,
   "metadata": {},
   "outputs": [
    {
     "data": {
      "text/plain": [
       "<matplotlib.image.AxesImage at 0x20a83150c48>"
      ]
     },
     "execution_count": 53,
     "metadata": {},
     "output_type": "execute_result"
    },
    {
     "data": {
      "image/png": "[encoded data removed]",
      "text/plain": [
       "<Figure size 432x288 with 1 Axes>"
      ]
     },
     "metadata": {
      "needs_background": "light"
     },
     "output_type": "display_data"
    }
   ],
   "source": [
    "plt.imshow(X_train[606,:,:,0], cmap='gray')"
   ]
  },
  {
   "cell_type": "code",
   "execution_count": 54,
   "metadata": {},
   "outputs": [
    {
     "name": "stdout",
     "output_type": "stream",
     "text": [
      "600/600 [==============================] - 69s 116ms/step - loss: 1.2457 - accuracy: 0.6965\n"
     ]
    }
   ],
   "source": [
    "model = Sequential()\n",
    "\n",
    "model.add(Conv2D(input_shape = (28,28,1), filters = 50, \n",
    "                 kernel_size = (3,3), strides = (1,1), padding = 'same'))\n",
    "model.add(BatchNormalization())\n",
    "model.add(Activation('sigmoid'))\n",
    "model.add(MaxPooling2D(pool_size = (2,2)))\n",
    "\n",
    "\n",
    "model.add(Flatten())\n",
    "model.add(Dense(256, activation = 'sigmoid'))\n",
    "model.add(Dense(10, activation = 'softmax'))\n",
    "\n",
    "adam = optimizers.Adam(lr = 0.001)\n",
    "model.compile(loss = 'categorical_crossentropy', \n",
    "              optimizer = adam, metrics = ['accuracy'])\n",
    "history = model.fit(X_train, y_train_e, \n",
    "                    batch_size = 100, epochs = 1, verbose = 1)"
   ]
  },
  {
   "cell_type": "code",
   "execution_count": 56,
   "metadata": {},
   "outputs": [
    {
     "name": "stdout",
     "output_type": "stream",
     "text": [
      "600/600 [==============================] - 84s 140ms/step - loss: 2.3804 - accuracy: 0.0990\n"
     ]
    }
   ],
   "source": [
    "model = Sequential()\n",
    "\n",
    "model.add(Conv2D(input_shape = (28,28,1), filters = 50, \n",
    "                 kernel_size = (3,3), strides = (1,1), padding = 'same'))\n",
    "model.add(BatchNormalization())\n",
    "model.add(Dropout(0.5))\n",
    "model.add(Activation('sigmoid'))\n",
    "model.add(MaxPooling2D(pool_size = (2,2)))\n",
    "\n",
    "\n",
    "model.add(Flatten())\n",
    "model.add(Dense(256, activation = 'relu'))\n",
    "model.add(Dropout(0.5))\n",
    "model.add(Dense(10, activation = 'softmax'))\n",
    "\n",
    "adam = optimizers.Adam(lr = 0.001)\n",
    "model.compile(loss = 'categorical_crossentropy', \n",
    "              optimizer = adam, metrics = ['accuracy'])\n",
    "history = model.fit(X_train, y_train_e, \n",
    "                    batch_size = 100, epochs = 1, verbose = 1)"
   ]
  },
  {
   "cell_type": "code",
   "execution_count": null,
   "metadata": {},
   "outputs": [],
   "source": []
  }
 ],
 "metadata": {
  "kernelspec": {
   "display_name": "Python 3",
   "language": "python",
   "name": "python3"
  },
  "language_info": {
   "codemirror_mode": {
    "name": "ipython",
    "version": 3
   },
   "file_extension": ".py",
   "mimetype": "text/x-python",
   "name": "python",
   "nbconvert_exporter": "python",
   "pygments_lexer": "ipython3",
   "version": "3.7.6"
  },
  "toc": {
   "base_numbering": 1,
   "nav_menu": {},
   "number_sections": false,
   "sideBar": true,
   "skip_h1_title": false,
   "title_cell": "Table of Contents",
   "title_sidebar": "Contents",
   "toc_cell": false,
   "toc_position": {},
   "toc_section_display": true,
   "toc_window_display": false
  }
 },
 "nbformat": 4,
 "nbformat_minor": 4
}
